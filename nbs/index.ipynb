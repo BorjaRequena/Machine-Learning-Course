{
 "cells": [
  {
   "cell_type": "markdown",
   "id": "594bb3fe",
   "metadata": {},
   "source": [
    "# Machine Learning Quantum and Classical"
   ]
  },
  {
   "cell_type": "markdown",
   "id": "67696746",
   "metadata": {},
   "source": [
    "Welcome to the course of *Machine learning quantum and classical* of the master in quantum science and technology in Barcelona!"
   ]
  },
  {
   "cell_type": "markdown",
   "id": "b3c58793",
   "metadata": {},
   "source": [
    "## Course Description"
   ]
  },
  {
   "cell_type": "markdown",
   "id": "b2704893",
   "metadata": {},
   "source": [
    "This course gives an introduction to machine learning and to deep neural networks: from linear linear models to generative models.\n",
    "We will cover the following topics:\n",
    "- Linear Models (linear regression, polynomial regression and logistic regression)\n",
    "- Deep Neural networks\n",
    "- Convolutional Neural Networks\n",
    "- Restricted Boltzmann Machines\n",
    "- Generative Models\n",
    "\n",
    "The course combines theory and practice. In particular, we have prepared jupyter notebooks in python and with the use of specific librairies such as numpy, Pytorch and fastai."
   ]
  },
  {
   "cell_type": "markdown",
   "id": "f78812b9",
   "metadata": {},
   "source": [
    "## Syllabus \n",
    "|Date|Lecture|Lecturer|\n",
    "|---|----|----|\n",
    "|13/12|Introduction + Linear models|Alexandre Dauphin|\n",
    "|15/12| Linear models|Alexandre Dauphin|\n",
    "|20/12|Linear models + Introduction to neural networks| Alexandre Dauphin|\n",
    "|22/12| Neural network from scratch | Alexandre Dauphin |\n",
    "|10/01| Pratical introduction to neural networks| Borja Requena|\n",
    "|12/01| Neural Networks with Pytorch and fastai | Marcin Plodzien|\n",
    "|17/01| Neural Networks with Pytorch and fastai | Marcin Plodzien | \n",
    "|19/01| Interpretability | Marcin Plodzien |\n",
    "|24/01| Introduction to classical Monte Carlo and sampling | Paolo Stornati |\n",
    "|26/01| Restricted Boltzman machines | Paolo Stornati |\n",
    "|31/01| Generative models | Borja Requena |\n",
    "|02/02| Overiew of the state of the art and Applications in Physics | Borja Requena|"
   ]
  }
 ],
 "metadata": {
  "kernelspec": {
   "display_name": "Python 3 (ipykernel)",
   "language": "python",
   "name": "python3"
  }
 },
 "nbformat": 4,
 "nbformat_minor": 5
}
