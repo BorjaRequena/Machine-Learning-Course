{
 "cells": [
  {
   "cell_type": "markdown",
   "id": "594bb3fe",
   "metadata": {},
   "source": [
    "# Machine Learning Quantum and Classical"
   ]
  },
  {
   "cell_type": "markdown",
   "id": "67696746",
   "metadata": {},
   "source": [
    "Welcome to the course of *Machine learning quantum and classical* of the master in quantum science and technology in Barcelona!"
   ]
  },
  {
   "cell_type": "markdown",
   "id": "192f8afc",
   "metadata": {},
   "source": [
    "<i class=\"bi bi-journals\"></i>\n",
    "[Course and Documentation](https://borjarequena.github.io/Neural-Network-Course/)"
   ]
  },
  {
   "cell_type": "markdown",
   "id": "7c89308a",
   "metadata": {},
   "source": [
    "## Course Description"
   ]
  },
  {
   "cell_type": "markdown",
   "id": "f5fee8e1",
   "metadata": {},
   "source": [
    "This course gives an introduction to machine learning and to deep neural networks: from linear linear models to generative models.\n",
    "We will cover the following topics:\n",
    "- Linear Models (linear regression, polynomial regression and logistic regression)\n",
    "- Deep Neural networks\n",
    "- Convolutional Neural Networks\n",
    "- Restricted Boltzmann Machines\n",
    "- Generative Models\n",
    "\n",
    "The course combines theory and practice. In particular, we have prepared jupyter notebooks in python and with the use of specific librairies such as numpy, Pytorch and fastai."
   ]
  },
  {
   "cell_type": "markdown",
   "id": "f78812b9",
   "metadata": {},
   "source": [
    "## Syllabus \n",
    "|Date|Lecture|Lecturer|\n",
    "|---|----|----|\n",
    "|13/12|Introduction + Linear models|Alexandre Dauphin|\n",
    "|15/12| Linear models|Alexandre Dauphin|\n",
    "|20/12|Linear models + Introduction to neural networks| Alexandre Dauphin|\n",
    "|22/12| Probabilistic view on Machine Learning| Alexandre Dauphin |\n",
    "|10/02| Practical introduction to Neural Networks | Borja Requena |\n",
    "|12/01| Neural Network fundamentals: Implementation from scratch | Marcin Płodzień|\n",
    "|17/01| Neural Network fundamentals: Automatic differentiation | Marcin Płodzień|\n",
    "|19/01| Neural Network fundamentals: Convolutional neural networks and regularization techniques | Marcin Płodzień | \n",
    "|24/01| Introduction to classical Monte Carlo and sampling | Paolo Stornati |\n",
    "|26/01| Restricted Boltzman machines | Paolo Stornati |\n",
    "|31/01| Generative models | Borja Requena |\n",
    "|02/02| Overiew of the state of the art and Applications in Physics | Borja Requena|"
   ]
  },
  {
   "cell_type": "markdown",
   "id": "5af96ee1",
   "metadata": {},
   "source": [
    "## Instructors\n",
    "\n",
    "::: {layout-ncol=4}\n",
    "\n",
    "![Alexandre Dauphin](./figures/alex.png)\n",
    "\n",
    "![Borja Requena](./figures/borja.png)\n",
    "\n",
    "![Marcin Płodzień](./figures/marcin.png) \n",
    "\n",
    "![Paolo Stornati](./figures/paolo.png)\n",
    "\n",
    ":::"
   ]
  }
 ],
 "metadata": {
  "kernelspec": {
   "display_name": "Python 3 (ipykernel)",
   "language": "python",
   "name": "python3"
  }
 },
 "nbformat": 4,
 "nbformat_minor": 5
}
