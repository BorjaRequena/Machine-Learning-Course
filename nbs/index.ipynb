{
 "cells": [
  {
   "cell_type": "raw",
   "id": "f952996d",
   "metadata": {},
   "source": [
    "---\n",
    "bibliography: course/references.bib\n",
    "---"
   ]
  },
  {
   "cell_type": "markdown",
   "id": "594bb3fe",
   "metadata": {},
   "source": [
    "# Machine learning course"
   ]
  },
  {
   "cell_type": "markdown",
   "id": "67696746",
   "metadata": {},
   "source": [
    "The content of this course was originally developed for the [master in quantum science and technology](https://quantummasterbarcelona.eu) in Barcelona, where we taught the *Machine learning for quantum and classical systems* course.\n",
    "The content of the course has been progressively expanded, updated and adapted, as we have been developing new mateiral and using this course to teach in multiple masters, schools, conferences, and workshops.\n",
    "\n",
    "Please, visit the <i class=\"bi bi-journals\"></i>\n",
    "[Course and Documentation](https://borjarequena.github.io/Neural-Network-Course/) page to get started!"
   ]
  },
  {
   "cell_type": "markdown",
   "id": "7c89308a",
   "metadata": {},
   "source": [
    "## Course Description"
   ]
  },
  {
   "cell_type": "markdown",
   "id": "f5fee8e1",
   "metadata": {},
   "source": [
    "This course gives an introduction to machine learning and deep learning: starting from linear linear models al the way up to state of the art generative models.\n",
    "The material covers the following topics:\n",
    "\n",
    "- What is learning?\n",
    "- Linear Models (linear regression, polynomial regression and logistic regression)\n",
    "- A probabilistic view of machine learning\n",
    "- Fundamentals of deep learning\n",
    "- Convolutional Neural Networks\n",
    "- Restricted Boltzmann Machines\n",
    "- Generative Models\n",
    "\n",
    "The course combines theory and practice in the form of jupyter notebooks with python.\n",
    "We make extensive use of specific librairies such as numpy, PyTorch and fastai.\n",
    "\n",
    "Some of the content has been adapted from our book in machine learning for the quantum sciences, as well as other material such as our PhD theses [@dawid2022]."
   ]
  },
  {
   "cell_type": "markdown",
   "id": "f78812b9",
   "metadata": {},
   "source": [
    "## Syllabus \n",
    "|Date|Lecture|Lecturer|\n",
    "|---|----|----|\n",
    "|13/12|Introduction + Linear models|Alexandre Dauphin|\n",
    "|15/12| Linear models|Alexandre Dauphin|\n",
    "|20/12|Linear models + Introduction to neural networks| Alexandre Dauphin|\n",
    "|22/12| Probabilistic view on Machine Learning| Alexandre Dauphin |\n",
    "|10/02| Practical introduction to Neural Networks | Borja Requena |\n",
    "|12/01| Neural Network fundamentals: Implementation from scratch | Marcin Płodzień|\n",
    "|17/01| Neural Network fundamentals: Automatic differentiation | Marcin Płodzień|\n",
    "|19/01| Neural Network fundamentals: Convolutional neural networks and regularization techniques | Marcin Płodzień | \n",
    "|24/01| Introduction to classical Monte Carlo and sampling | Paolo Stornati |\n",
    "|26/01| Restricted Boltzman machines | Paolo Stornati |\n",
    "|31/01| Generative models | Borja Requena |\n",
    "|02/02| Overiew of the state of the art and Applications in Physics | Borja Requena|"
   ]
  },
  {
   "cell_type": "markdown",
   "id": "5af96ee1",
   "metadata": {},
   "source": [
    "## Original instructors\n",
    "\n",
    "::: {layout-ncol=4}\n",
    "\n",
    "![Alexandre Dauphin](./figures/alex.png)\n",
    "\n",
    "![Borja Requena](./figures/borja.png)\n",
    "\n",
    "![Marcin Płodzień](./figures/marcin.png) \n",
    "\n",
    "![Paolo Stornati](./figures/paolo.png)\n",
    "\n",
    ":::"
   ]
  }
 ],
 "metadata": {
  "kernelspec": {
   "display_name": "python3",
   "language": "python",
   "name": "python3"
  }
 },
 "nbformat": 4,
 "nbformat_minor": 5
}
