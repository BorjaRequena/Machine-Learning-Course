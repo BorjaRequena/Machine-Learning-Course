{
 "cells": [
  {
   "cell_type": "markdown",
   "id": "16be62c0-3b42-444b-8bc6-d855f29200b2",
   "metadata": {},
   "source": [
    "# Homeworks and evaluation\n",
    "> Evaluation criteria for the course"
   ]
  },
  {
   "cell_type": "markdown",
   "id": "919fabe2-90f8-46a5-91d8-16cf564f6a13",
   "metadata": {},
   "source": [
    "Throughout the course, we will provide **4 mandatory homeworks** and a **written report** about a scientific publication of your choice. Each of these five tasks count for 20% of the final mark. Additionally, we will provide an **optional homework** that will add up to an additional 10%."
   ]
  }
 ],
 "metadata": {
  "kernelspec": {
   "display_name": "Python 3 (ipykernel)",
   "language": "python",
   "name": "python3"
  }
 },
 "nbformat": 4,
 "nbformat_minor": 5
}
