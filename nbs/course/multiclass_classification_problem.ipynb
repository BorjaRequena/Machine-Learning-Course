{
 "cells": [
  {
   "cell_type": "markdown",
   "id": "85618949",
   "metadata": {},
   "source": [
    "---\n",
    "title: \"Multiclass classification with Neural Networks\"\n",
    "author: \"Marcin Płodzień\"\n",
    "toc: true\n",
    "number-sections: true\n",
    "highlight-style: pygments\n",
    "jupyter: python3\n",
    "skip_showdoc: true\n",
    "skip_exec: true\n",
    "---"
   ]
  },
  {
   "cell_type": "markdown",
   "id": "57e98769",
   "metadata": {},
   "source": [
    "# Multiclass classification task: one-hot encoding\n",
    "\n",
    "Let's consider problem of data classification when each trainig sample $\\vec{x}$ has a label $y$ belonging to one class, where we have $J$ classes in total. Next, we can enumerate each class by index $j \\in \\{1,\\dots, J\\}$.\n",
    "\n",
    "Multiclass classification problems can be considered as task for which each input sample $\\vec{x}$ is equiped with the discrete probability distribution \n",
    "\n",
    "\\begin{equation}\n",
    "\\begin{split}\n",
    "p = [p_1, p_2, \\dots, p_J],\\\\\n",
    "\\sum_{i=j}^{J} p_j = 1,\n",
    "\\end{split}\n",
    "\\end{equation}\n",
    "providing the information about what is the probability that given imput data $\\vec{x}$ belongs to given class $j$.\n",
    "\n",
    "In a particular scenario of a labeled data sample  $\\vec{x}$ with label $y$ belonging to class with number $j = 3$ the corresponding probability distribution is\n",
    "\n",
    "\\begin{equation}\n",
    " p = [0, 0, 1, 0, 0, 0, 0, 0, 0, 0].\n",
    "\\end{equation}\n",
    "\n",
    "As such, training sample $\\vec{x}$ is equiped with a new label $p$.\n",
    "\n",
    "Such a maping between labels $y$ to discrete probability distribution $p$ in the literature is so-called ${\\it one-hot encoding}$. \n",
    "\n",
    "One-hot encoding is often used as a way to represent categorical variables in machine learning models. It has the advantage of being able to represent any number of categories, and the labels are mutually exclusive, which can be useful for certain types of models."
   ]
  },
  {
   "cell_type": "markdown",
   "id": "54174181",
   "metadata": {},
   "source": [
    "# Multiclass classification task\n",
    "\n",
    "Let's consider problem of data classification when each trainig sample $\\vec{x}$ has a label $y$ belonging to one class, where we have $J$ classes in total. Next, we can enumerate each class by index $j \\in \\{1,\\dots, J\\}$.\n",
    "\n",
    "Multiclass classification problems can be considered as task for which each input sample $\\vec{x}$ is equiped with the discrete probability distribution \n",
    "\n",
    "\\begin{equation}\n",
    "\\begin{split}\n",
    "p = [p_1, p_2, \\dots, p_J],\\\\\n",
    "\\sum_{i=j}^{J} p_j = 1\n",
    "\\end{split}\n",
    "\\end{equation},\n",
    "providing information what is the probability that given imput data $\\vec{x}$ belongs to given class $j$.\n",
    "\n",
    "In a particular scenario of a labeled data sample  $\\vec{x}$ with label $y$ belonging to class with number $j = 3$ the corresponding probability distribution is\n",
    "\n",
    "\\begin{equation}\n",
    " p = [0, 0, 1, 0, 0, 0, 0, 0, 0, 0].\n",
    "\\end{equation}\n",
    "\n",
    "As such, training sample $\\vec{x}$ is equiped with a new label $p$.\n",
    "\n",
    "Such a maping between labels $y$ to discrete probability distribution $p$ in the literature is so-called ${\\it one-hot-encoding}$. \n",
    "\n",
    "One-hot encoding is often used as a way to represent categorical variables in machine learning models. It has the advantage of being able to represent any number of categories, and the labels are mutually exclusive, which can be useful for certain types of models."
   ]
  },
  {
   "cell_type": "markdown",
   "id": "87411995",
   "metadata": {},
   "source": [
    "# Categorical cross-entropy as a loss function\n",
    "\n",
    "For multiclass classification task architecture of the Neural Network has output layer with $J$ nodes, corresponding to number of all classes in the training dataset. We interpret output of a neural network $\\phi = [\\phi_1, \\phi_2, \\dots, \\phi_J]$ as a predicted discrete probability distribution $q = [q_1, q_2, \\dots, q_J]$, after applying softmax activation function\n",
    "\n",
    "\\begin{equation}\n",
    "\\phi_j \\to q_j = softmax(\\phi_j) = \\frac{e^{\\phi_j}}{\\sum_l e^{\\phi_j}},\n",
    "\\end{equation}\n",
    "\n",
    "which assures that $\\sum_j q_j = 1$. As such, output $q = \\{q_0, q_2, \\dots, q_J\\}$ can be interpreted as a discrete probability distribution, as well as $p$.\n",
    "\n",
    "Now, the class prediction is taken as index $l$ corresponding to the maximum value of the class probability, i.e. the model prediction is a index $l$ for which $q_l$ has maximal value - i.e. it provides digit which is most likely a proper label for the input data.\n",
    "\n",
    "During training the Neural Network we want to minimize distance between input class probability distribution $p$ and predicted class probability distribution $q$. \n",
    "\n",
    "The measure for comparing probability distribution is given by the a Kullback-Leibler divergence providing measure of how two probability distributions $p$ and $q$ differ:\n",
    "\n",
    "\\begin{equation}\n",
    "K_{LB}(p || q) = \\sum_{l} p_l\\log\\frac{p_l}{q_l}.\n",
    "\\end{equation}\n",
    "\n",
    "We can see that\n",
    "\n",
    "\\begin{equation}\n",
    "K_{LB}(p || q) = \\sum_{l}p_l\\log{p_l} -\\sum_l p_l\\log{q_l} \\equiv {\\cal H} - \\text{CE}(p,q),\n",
    "\\end{equation}\n",
    "\n",
    "where ${\\cal H}$ is Shannon entropy for discrete probability distribution $p$, and\n",
    "\n",
    "\\begin{equation}\n",
    "\\text{CE}(p,q) = -\\sum_l p_l\\log{q_l}\n",
    "\\end{equation}\n",
    "is called categorical-cross entropy.\n",
    "\n",
    "Because the Shannon entropy does not depends on the trainable parameters  we can consider only categorical cross-entropy as a loss function."
   ]
  },
  {
   "cell_type": "markdown",
   "id": "521e566d",
   "metadata": {},
   "source": [
    "# Example: Multiclass classification in MNIST dataset\n",
    "\n",
    "In the context of the MNIST dataset our labels are digits assigned to $28\\times28$ pixels images. In such a case, we can consider handwritten digits recognition as a classification problem with $J = 10$ different classes - each for each digit. We assume that each class has assigned arbitrary index $l$ enumerating classes.\n",
    "\n",
    "In multiclass classification problem, one of the most popular techniqe for for data labels is so called ${\\it one-hot encoding}$. One-hot encoding is a way of representing each label as a  $J$-dimensional vectors. Each vector has all elements set to $0$ except one element, whose position corresponds to arbitrary class index $l$.\n",
    "\n",
    "For example, the digit $3$ has class index $4$ (we count from $0$), thus its label would be represented as \n",
    "\n",
    "\\begin{equation}\n",
    " p = y_{\\text{one-hot-encoded}} = [0, 0, 0, 1, 0, 0, 0, 0, 0, 0] \\\\\n",
    "\\end{equation} \n",
    "\n",
    "One-hot encoding is often used as a way to represent categorical variables in machine learning models. It has the advantage of being able to represent any number of categories, and the labels are mutually exclusive, which can be useful for certain types of models.\n",
    "\n",
    "Let' import training data: images and labels"
   ]
  },
  {
   "cell_type": "code",
   "execution_count": null,
   "id": "8ef89b1d",
   "metadata": {},
   "outputs": [],
   "source": [
    "import torch\n",
    "import torch.nn as nn\n",
    "import torch.optim as optim\n",
    "from torchvision import datasets, transforms\n",
    "\n",
    "# Define a transform to normalize the data\n",
    "transform = transforms.Compose([transforms.ToTensor(),\n",
    "                                transforms.Normalize((0.5,), (0.5,))])\n",
    "# Download and load the training data\n",
    "trainset = datasets.MNIST('~/.pytorch/MNIST_data/', download=True, train=True, transform=transform)\n",
    "trainloader = torch.utils.data.DataLoader(trainset, batch_size=64, shuffle=True)\n",
    "\n",
    "Nx = 28   # number of pixels in x-direction\n",
    "Ny = 28   # number of pixels in y-direction\n",
    "N_class = 10"
   ]
  },
  {
   "cell_type": "markdown",
   "id": "5a9b586b",
   "metadata": {},
   "source": [
    "Now, we define simple feed-forward neural network with three hidden layers. First hidden-layer has $N_{h_1} = 128$ nodes, second hidden-layer has $N_{h_2} = 64$ nodes, while third hidden-layer has $N_{h_3} = 32$ nodes:"
   ]
  },
  {
   "cell_type": "code",
   "execution_count": null,
   "id": "dcc5d7d9",
   "metadata": {},
   "outputs": [],
   "source": [
    "# Define the model\n",
    "N_h_1 = 128\n",
    "N_h_2 = 64\n",
    "N_h_3 = 32\n",
    "model = nn.Sequential(nn.Linear(Nx*Ny, N_h_1),\n",
    "                      nn.ReLU(),\n",
    "                      nn.Linear(N_h_1, N_h_2),\n",
    "                      nn.ReLU(),\n",
    "                      nn.Linear(N_h_2, N_h_3),\n",
    "                      nn.ReLU(),\n",
    "                      nn.Linear(N_h_3, N_class)\n",
    "                     )"
   ]
  },
  {
   "cell_type": "markdown",
   "id": "25073249",
   "metadata": {},
   "source": [
    "Now, we define loss function $L$ as cross-entropy, and Adam as a optimizer for calculating gradient of the loss function $L$ with respect to trainable parameters."
   ]
  },
  {
   "cell_type": "code",
   "execution_count": null,
   "id": "71cfb85f",
   "metadata": {},
   "outputs": [],
   "source": [
    "# Define the loss\n",
    "criterion = nn.CrossEntropyLoss()\n",
    "# Define the optimizer\n",
    "optimizer = optim.Adam(model.parameters(), lr=0.001)"
   ]
  },
  {
   "cell_type": "markdown",
   "id": "4e7f03fa",
   "metadata": {},
   "source": [
    "Finally, we will train our model for $N_{\\text{epoch}} = 10$ epochs, and collect value of the loss function at each epoch."
   ]
  },
  {
   "cell_type": "code",
   "execution_count": null,
   "id": "0108c493",
   "metadata": {},
   "outputs": [
    {
     "name": "stdout",
     "output_type": "stream",
     "text": [
      "Epoch 0 - Training loss: 0.44632343203623664\n",
      "Epoch 1 - Training loss: 0.19825542715392006\n",
      "Epoch 2 - Training loss: 0.14819248952368683\n",
      "Epoch 3 - Training loss: 0.12276379527675031\n",
      "Epoch 4 - Training loss: 0.10394735406708917\n",
      "Epoch 5 - Training loss: 0.08960785535397504\n",
      "Epoch 6 - Training loss: 0.08135678043622754\n",
      "Epoch 7 - Training loss: 0.07523494778917844\n",
      "Epoch 8 - Training loss: 0.06587286778553915\n",
      "Epoch 9 - Training loss: 0.05905826543847512\n"
     ]
    }
   ],
   "source": [
    "N_epoch = 10\n",
    "\n",
    "# Training loop\n",
    "for epoch in range(0, N_epoch):\n",
    "    running_loss = 0.0\n",
    "    for images, labels in trainloader:\n",
    "        # Flatten MNIST images into a 784-dimensional vector\n",
    "        images = images.view(images.shape[0], -1)\n",
    "    \n",
    "        # Clear the gradients\n",
    "        optimizer.zero_grad()\n",
    "                \n",
    "        # One-hot encode the labels\n",
    "        one_hot_labels = torch.zeros(labels.size(0), 10)\n",
    "        one_hot_labels[torch.arange(labels.size(0)), labels] = 1\n",
    "                \n",
    "        # Forward pass\n",
    "        output = model(images)\n",
    "        \n",
    "        # Calculate the loss\n",
    "        loss = criterion(output, one_hot_labels)        \n",
    "\n",
    "        # Backward pass\n",
    "        loss.backward()  # automatic calculating the loss with respects to trainable parameters\n",
    "        \n",
    "        # Update the weights according to chosem optimization function. Here: Adam\n",
    "        optimizer.step()\n",
    "        \n",
    "        # Print statistics\n",
    "        running_loss += loss.item()\n",
    "    print(f\"Epoch {epoch} - Training loss: {running_loss/len(trainloader)}\")"
   ]
  },
  {
   "cell_type": "markdown",
   "id": "4efcadf3",
   "metadata": {},
   "source": [
    "Now, we can evaluate model on test dataset and check the confusion matrix:"
   ]
  },
  {
   "cell_type": "code",
   "execution_count": null,
   "id": "e4684506",
   "metadata": {},
   "outputs": [
    {
     "data": {
      "text/plain": [
       "Text(0.5, 1.0, 'Accuracy = 97.13%')"
      ]
     },
     "execution_count": null,
     "metadata": {},
     "output_type": "execute_result"
    },
    {
     "data": {
      "image/png": "[encoded data removed]",
      "text/plain": [
       "<Figure size 640x480 with 1 Axes>"
      ]
     },
     "metadata": {},
     "output_type": "display_data"
    }
   ],
   "source": [
    "import numpy as np\n",
    "# Define a transform to normalize the data\n",
    "transform = transforms.Compose([transforms.ToTensor(),\n",
    "                                transforms.Normalize((0.5,), (0.5,))])\n",
    "# Download and load the test data\n",
    "testset = datasets.MNIST('~/.pytorch/MNIST_data/', download=True, train=False, transform=transform)\n",
    "testloader = torch.utils.data.DataLoader(testset, batch_size=64, shuffle=True)\n",
    "# Set the model to evaluation mode\n",
    "model.eval()\n",
    "\n",
    "# Make predictions on the test set\n",
    "correct = 0\n",
    "total = 0\n",
    "confusion_matrix = np.zeros((10,10))\n",
    "with torch.no_grad():\n",
    "    for images, labels in testloader:\n",
    "        # Flatten MNIST images into a 784-dimensional vector\n",
    "        images = images.view(images.shape[0], -1)\n",
    "        \n",
    "        # Forward pass\n",
    "        output = model(images)\n",
    "        \n",
    "        # Apply the softmax function to the output\n",
    "        probs = torch.softmax(output, dim=1)\n",
    "        \n",
    "        # Get the class with the highest probability\n",
    "        _, predicted = torch.max(probs, 1)\n",
    "        \n",
    "        # Update the correct and total counters\n",
    "        correct += (predicted == labels).sum().item()\n",
    "        total += labels.size(0)\n",
    "        \n",
    "        for i in range(0, predicted.shape[0]):           \n",
    "            confusion_matrix[predicted[i].item(),labels[i].item()] += 1\n",
    "\n",
    "# Calculate the accuracy\n",
    "accuracy = correct / total\n",
    "\n",
    "import matplotlib.pyplot as plt\n",
    "plt.imshow(confusion_matrix)\n",
    "plt.xlabel(\"true\")\n",
    "plt.ylabel(\"predicted\")\n",
    "plt.title(\"Accuracy = \" + \"{:2.2f}\".format(accuracy*100) + \"%\")"
   ]
  }
 ],
 "metadata": {
  "kernelspec": {
   "display_name": "Python 3 (ipykernel)",
   "language": "python",
   "name": "python3"
  }
 },
 "nbformat": 4,
 "nbformat_minor": 5
}
