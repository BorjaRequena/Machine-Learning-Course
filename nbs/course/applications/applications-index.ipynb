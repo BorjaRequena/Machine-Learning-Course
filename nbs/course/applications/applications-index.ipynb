{
 "cells": [
  {
   "cell_type": "raw",
   "id": "bb2d9e41-5efb-42bc-8471-e96b43863711",
   "metadata": {},
   "source": [
    "---\n",
    "title: 'Typical machine learning applications'\n",
    "author: Borja Requena\n",
    "toc: true\n",
    "number-sections: true\n",
    "highlight-style: pygments\n",
    "jupyter: python3\n",
    "bibliography: ../references.bib\n",
    "skip_showdoc: true\n",
    "skip_exec: true\n",
    "---"
   ]
  },
  {
   "cell_type": "markdown",
   "id": "39bb5a90-e3bd-49a0-96fe-d739bde1bdde",
   "metadata": {},
   "source": [
    "# Recap\n",
    "\n",
    "So far, we have visited the fundamentals of machine learning. We have tackled both regression and classification tasks building the algorithms from scratch. This has allowed us to introduce key machine learning concepts such as loss function, stochastic gradient descent, overfitting or regularization, which are transferrable to any machine learning task and architecture.\n",
    "\n",
    "Building a polynomial regression from scratch, we have gained intuition about what are the model parameters, how to compute their gradients and how to update them to obtain a better model. Then, with the logistic regression, we have learned the difference between a loss function and a metric. Finally, with the perceptron, we have mastered a fundamental building block of many complex machine learning architectures, as well as developed further intuition about classification tasks in multiple dimensions.\n",
    "\n",
    "# Next steps\n",
    "\n",
    "From now on, we will take a more applied approach. We will use neural networks to tackle more challenging problems than what we have done so far. However, the basic principles remain the same.\n",
    "\n",
    "In this lecture, we provide an overview of various prototypical machine learning tasks over different kinds of data. This will provide context for the upcomming lessons as well as (hopefully) some motivation! We will focus on three main types of data: images, text and structured data. These give raise to computer vision, natural language processing and tabular data tasks, respectively.\n",
    "\n",
    "Seat back and enjoy the ride!"
   ]
  }
 ],
 "metadata": {
  "kernelspec": {
   "display_name": "conda-env-lectures-py",
   "language": "python",
   "name": "conda-env-lectures-py"
  }
 },
 "nbformat": 4,
 "nbformat_minor": 5
}
