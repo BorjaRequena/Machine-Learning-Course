{
 "cells": [
  {
   "cell_type": "raw",
   "metadata": {},
   "source": [
    "---\n",
    "title: \"Introduction to Machine Learning\"\n",
    "author: \"Borja Requena\"\n",
    "description: \"How do machines learn?\"\n",
    "toc: true\n",
    "number-sections: true\n",
    "highlight-style: pygments\n",
    "jupyter: python3\n",
    "bibliography: references.bib\n",
    "skip_showdoc: true\n",
    "skip_exec: true\n",
    "---"
   ]
  }
 ],
 "metadata": {},
 "nbformat": 4,
 "nbformat_minor": 2
}
