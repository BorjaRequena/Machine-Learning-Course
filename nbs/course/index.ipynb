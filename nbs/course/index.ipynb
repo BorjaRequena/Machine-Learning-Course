{
 "cells": [
  {
   "cell_type": "markdown",
   "id": "a44ee4e7",
   "metadata": {},
   "source": [
    "```{mermaid}\n",
    "flowchart TD\n",
    "subgraph one[ ]\n",
    " A(linear models)--> A1(Linear regression)\n",
    " A --> A2(Polynomial Regression)\n",
    " A --> A3(Logistic Regression)\n",
    " A --> A4(Perceptron)\n",
    "end\n",
    "```"
   ]
  },
  {
   "cell_type": "markdown",
   "id": "9d4616ce",
   "metadata": {},
   "source": [
    "```{mermaid}\n",
    "flowchart TD\n",
    "subgraph two[ ]\n",
    " B(Neural Networks)--> B1(Perceptron)\n",
    " B-->B2(Deep Neural Networks)\n",
    " B-->B3(Automatic Differentiation)\n",
    "end\n",
    "```"
   ]
  }
 ],
 "metadata": {
  "kernelspec": {
   "display_name": "Python 3 (ipykernel)",
   "language": "python",
   "name": "python3"
  }
 },
 "nbformat": 4,
 "nbformat_minor": 5
}
