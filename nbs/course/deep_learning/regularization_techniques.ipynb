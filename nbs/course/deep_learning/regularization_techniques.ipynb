{
 "cells": [
  {
   "cell_type": "raw",
   "id": "aa918f44-97f5-4b06-94c7-9c6668e82b29",
   "metadata": {},
   "source": [
    "---\n",
    "title: \"Neural Networks regularization\"\n",
    "author: \"Marcin Płodzień\"\n",
    "toc: true\n",
    "number-sections: true\n",
    "highlight-style: pygments\n",
    "jupyter: python3\n",
    "skip_showdoc: true\n",
    "skip_exec: true\n",
    "---"
   ]
  },
  {
   "cell_type": "markdown",
   "id": "d552eb70",
   "metadata": {},
   "source": [
    "# Overfitting"
   ]
  },
  {
   "cell_type": "markdown",
   "id": "7ff15868",
   "metadata": {},
   "source": [
    "Overfitting is a common problem in deep learning, and occurs when a model is excessively complex and is able to fit the training data too closely. This can lead to poor generalization to new, unseen data, as the model may have learned patterns in the training data that are not present in the real world.\n",
    "\n",
    "There are several factors that can contribute to overfitting in deep neural networks:\n",
    "\n",
    "a) Large number of parameters: complex network architectures, such as very deep networks or networks with a large number of parameters, can  be prone to overfitting.\n",
    "\n",
    "b) Lack of sufficient data: If the training dataset is small, the model may be able to fit the training data too closely, leading to overfitting.\n",
    "\n",
    "\n",
    "It is therefore to use regularization techniques to prevent it."
   ]
  },
  {
   "cell_type": "markdown",
   "id": "5c61c9e1",
   "metadata": {},
   "source": [
    "# Neural Networks regularization\n",
    "\n",
    "Regularization techniques are used to prevent overfitting in deep learning models. Regularization techniques result in:\n",
    "\n",
    "   1. Improved generalization: By preventing overfitting, regularization can help to improve the generalization performance of the model on new, unseen data.\n",
    "\n",
    "   2. Simplified models: Regularization can help to reduce the complexity of the model, which can make it easier to interpret and understand.\n",
    "\n",
    "   3. Increased robustness: Regularized models are often more robust to noise and other types of perturbations, as they are less sensitive to specific patterns in the training data.\n",
    "\n",
    "   4. Improved efficiency: Regularization can help to reduce the number of parameters in the model, which can make the model more efficient to train and deploy.\n",
    "\n",
    "   5. Better interpretability: Regularization can help to identify the most important features in the data, which can improve the interpretability of the model.\n",
    "\n",
    "   6. Improved optimization: Regularization can help to stabilize the optimization process, which can lead to faster convergence and better performance.\n",
    "\n",
    "   7. Reduced risk of overfitting: Regularization helps to reduce the risk of overfitting, which can be a major issue when training deep learning models.\n",
    "\n",
    "   8. Better generalization to new data distributions: Regularization can help to improve the generalization of the model to new data distributions, as it encourages the model to learn more generalizable patterns in the data.\n",
    "\n",
    "   9. Improved performance on small datasets: Regularization can be particularly useful when working with small datasets, as it can help to reduce the risk of overfitting and improve the generalization performance of the model.\n",
    "\n",
    "   10. Improved performance on noisy datasets: Regularization can help to improve the performance of the model on noisy datasets, as it encourages the model to learn more robust and generalizable patterns in the data."
   ]
  },
  {
   "cell_type": "markdown",
   "id": "d0dc05e4",
   "metadata": {},
   "source": [
    "# Regularization techniques\n",
    "\n",
    "There are several regularization techniques that are commonly used to train deep neural networks:"
   ]
  },
  {
   "cell_type": "markdown",
   "id": "f1748376",
   "metadata": {},
   "source": [
    "## Weight decay (L1/L2 regularization)\n",
    "\n",
    "   This method involves adding a penalty to the cost function during training to discourage the model from learning excessively large weights. These regularization techniques are based on the idea that large weights can lead to overfitting, as they may allow the model to fit the training data too closely. L1 and L2 regularization are methods for adding a penalty term to the cost function during training to discourage the model from learning excessively large weights. \n",
    "L1 regularization: \n"
   ]
  },
  {
   "cell_type": "markdown",
   "id": "2e3342b8",
   "metadata": {},
   "source": [
    "### L1 regularization\n",
    "\n",
    "L1 regularization, also known as ${\\it Lasso} regularization, adds a penalty term to the cost function that is proportional to the absolute value of the weights. The L1 regularization term has the form:\n",
    "\n",
    "\\begin{equation}\n",
    "L_1 = \\lambda  \\sum |W|\n",
    "\\end{equation}\n",
    "where λ is the regularization parameter, and w is the weight.\n",
    "\n",
    "The effect of L1 regularization is to push the weights towards zero, which can help to reduce overfitting by decreasing the complexity of the model. L1 regularization can also be useful for feature selection, as it tends to drive the weights of unimportant features to zero, effectively removing them from the model.\n"
   ]
  },
  {
   "cell_type": "markdown",
   "id": "30dba4ff",
   "metadata": {},
   "source": [
    "### L2 regularization\n",
    "\n",
    "L2 regularization, also known as ${\\it Ridge}$ regularization, adds a penalty term to the cost function that is proportional to the square of the weights. The L2 regularization term has the form:\n",
    "\n",
    "\\begin{equation}\n",
    "L_2 = \\lambda  \\sum W^2\n",
    "\\end{equation}\n",
    "\n",
    "where $\\lambda$ is the regularization parameter, and $W$ are weights of the model.\n",
    "\n",
    "The effect of L2 regularization is to shrink the weights towards zero, which can help to reduce overfitting by decreasing the complexity of the model. \n",
    "\n",
    "However, unlike L1 regularization, L2 regularization does not lead to the complete removal of weights, as it only shrinks the weights rather than setting them to zero.\n",
    "\n",
    "In general, L2 regularization is more commonly used than L1 regularization, as it tends to be more stable and easier to optimize. However, L1 regularization can be useful in situations where it is important to select a subset of features, as it has the ability to drive some weights to zero.\n"
   ]
  },
  {
   "cell_type": "markdown",
   "id": "605dd950",
   "metadata": {},
   "source": [
    "## Dropout\n",
    "\n",
    " This is a regularization technique that randomly sets a fraction of the activations to zero during training. This helps to prevent overfitting by forcing the model to be more robust to the specific weights of individual units."
   ]
  },
  {
   "cell_type": "markdown",
   "id": "425884f5",
   "metadata": {},
   "source": [
    "\n",
    "## Batch normalization:\n",
    "\n",
    "Batch normalization is a technique that is used to normalize the activations of a mini-batch in order to stabilize and accelerate the training of deep neural networks.\n",
    "\n",
    "\n",
    "Ideally, the normalization would be conducted over the entire training set, but to use this step jointly with stochastic optimization methods, it is impractical to use the global information. Thus, normalization is restrained to each mini-batch in the training process. This can help to prevent overfitting by ensuring that the activations of a layer have a consistent distribution, which makes it easier for the model to learn.\n",
    "\n",
    "During training, the batch normalization layer computes the mean and standard deviation of the activations of the current mini-batch and uses these statistics to normalize the activations. The normalized activations are then computed as follows:\n",
    "\n",
    "normalized_activations = (activations - mean) / std\n",
    "\n",
    "where mean and std are the mean and standard deviation of the activations, respectively.\n",
    "\n",
    "\n",
    "The batch normalization layer also stores the mean and standard deviation of the activations in a set of running statistics, which are updated at each training iteration by exponentially moving the mean and standard deviation of the mini-batch towards the mean and standard deviation of the running statistics.\n",
    "\n",
    "During evaluation of the model, the batch normalization layer uses the mean and standard deviation of the running statistics to normalize the activations. This helps to ensure that the model's behavior is consistent during training and evaluation, and can improve the model's generalization ability.\n",
    "\n",
    "\n",
    "\n",
    "In PyTorch, batch normalization can be implemented by using the BatchNorm1d layer for fully-connected layers, or the BatchNorm2d layer for convolutional layers. These layers should be placed after the linear or convolutional layers, respectively, and before the non-linear activation function. For example:"
   ]
  },
  {
   "cell_type": "markdown",
   "id": "929b1af8",
   "metadata": {},
   "source": [
    "## Early stopping\n",
    "\n",
    "This method involves stopping the training process before the model has fully converged. This can be used to prevent overfitting by limiting the number of iterations that the model can use to learn the training data.\n",
    "\n",
    "Data augmentation: This method involves generating additional training examples by applying random transformations to the existing training examples. This can help to prevent overfitting by providing the model with more diverse data to learn from."
   ]
  },
  {
   "cell_type": "code",
   "execution_count": null,
   "id": "f34ef492",
   "metadata": {},
   "outputs": [],
   "source": [
    "# import torch\n",
    "\n",
    "# Train the model for a maximum of 100 epochs\n",
    "#for epoch in range(100):\n",
    "  # Train the model for one epoch\n",
    "#  train(model, train_data, optimizer)\n",
    "\n",
    "  # Evaluate the model on the validation set\n",
    "#  val_loss = evaluate(model, val_data)\n",
    "\n",
    "  # If the validation loss has not improved in the last 10 epochs, stop training\n",
    "#  if val_loss > best_val_loss:\n",
    "#    best_val_loss = val_loss\n",
    "#    patience = 0\n",
    "#  else:\n",
    "#    patience += 1\n",
    "#    if patience == 10:\n",
    "#      break"
   ]
  },
  {
   "cell_type": "markdown",
   "id": "3e40656b",
   "metadata": {},
   "source": [
    "## Data augumentation\n",
    "Data augmentation: To implement data augmentation in PyTorch, you can use the torchvision.transforms module, which provides a number of pre-defined image transformations that can be applied to the training data. For example:"
   ]
  },
  {
   "cell_type": "code",
   "execution_count": null,
   "id": "8a6d88f7",
   "metadata": {},
   "outputs": [],
   "source": [
    "# import torchvision.transforms as transforms\n",
    "\n",
    "# Define a transformation that randomly crops and flips the input images\n",
    "#transform = transforms.Compose([\n",
    "#    transforms.RandomCrop(32, padding=4),\n",
    "#    transforms.RandomHorizontalFlip()\n",
    "#])\n",
    "\n",
    "# Apply the transformation to the training data\n",
    "#train_data = torch.utils.data.DataLoader(\n",
    "#    dataset, batch_size=batch_size, shuffle=True, transform=transform)"
   ]
  },
  {
   "cell_type": "markdown",
   "id": "317765fb",
   "metadata": {},
   "source": [
    "# Example: MNIST dataset"
   ]
  },
  {
   "cell_type": "code",
   "execution_count": null,
   "id": "f0cba864",
   "metadata": {},
   "outputs": [],
   "source": [
    "# !pip install torch torchvision\n",
    "import torch\n",
    "import torch.nn as nn\n",
    "import torch.optim as optim\n",
    "import torch.nn.functional as F\n",
    "import torch.utils.data as data\n",
    "import torchvision\n",
    "import torchvision.transforms as transforms\n",
    "\n",
    "import numpy as np\n",
    "import matplotlib.pyplot as plt"
   ]
  },
  {
   "cell_type": "markdown",
   "id": "25983c75",
   "metadata": {},
   "source": [
    "We'll then define the transform for the data. We'll use the ToTensor transform to convert the images to tensors, and we'll also apply data augmentation by randomly flipping and rotating the images."
   ]
  },
  {
   "cell_type": "code",
   "execution_count": null,
   "id": "cba7ac31",
   "metadata": {},
   "outputs": [],
   "source": [
    "# Define a transform to normalize the data\n",
    "transform = transforms.Compose([transforms.ToTensor(),\n",
    "                             #   transforms.RandomRotation(7),\n",
    "                             #   transforms.RandomHorizontalFlip(),\n",
    "                             #   transforms.RandomVerticalFlip(),\n",
    "                                transforms.Normalize((0.5,), (0.5,))])"
   ]
  },
  {
   "cell_type": "markdown",
   "id": "be0ecb64",
   "metadata": {},
   "source": [
    "Next, we'll load the MNIST dataset using the transform we just defined. We'll also define the batch size and set the shuffle parameter to True so that the data is shuffled at each epoch."
   ]
  },
  {
   "cell_type": "code",
   "execution_count": null,
   "id": "e65f2ccd",
   "metadata": {},
   "outputs": [],
   "source": [
    "batch_size = 64\n",
    "\n",
    "train_dataset = torchvision.datasets.MNIST(root='.', train=True, download=True, transform=transform)\n",
    "train_loader = data.DataLoader(train_dataset, batch_size=batch_size, shuffle=True)\n",
    "\n",
    "test_dataset = torchvision.datasets.MNIST(root='.', train=False, download=True, transform=transform)\n",
    "test_loader = data.DataLoader(test_dataset, batch_size=batch_size, shuffle=False)"
   ]
  },
  {
   "cell_type": "markdown",
   "id": "31cb94da",
   "metadata": {},
   "source": [
    "Now, we'll define the example of our neural network architecture\n",
    "(later we can add dropout with a probability of $0.5$ after each hidden layer, and/or batch normalization after each hidden layer.)"
   ]
  },
  {
   "cell_type": "code",
   "execution_count": null,
   "id": "161f500c",
   "metadata": {},
   "outputs": [],
   "source": [
    "# Define the model\n",
    "Nx = 28\n",
    "Ny = 28\n",
    "N_h_1 = 128\n",
    "N_h_2 = 64\n",
    "class Net(nn.Module):\n",
    "    def __init__(self):\n",
    "        super(Net, self).__init__()\n",
    "        self.fc1 = nn.Linear(Nx*Ny, N_h_1)\n",
    "        self.bn1 = nn.BatchNorm1d(N_h_1)\n",
    "        self.fc2 = nn.Linear(N_h_1, N_h_2)\n",
    "        self.bn2 = nn.BatchNorm1d(N_h_2)\n",
    "        self.fc3 = nn.Linear(N_h_2, 10)\n",
    "\n",
    "    def forward(self, x):\n",
    "        x = x.view(-1, Nx*Ny)\n",
    "        x = F.relu(self.fc1(x))\n",
    "     #   x = self.bn1(x)\n",
    "     #   x = F.dropout(x, p=0.5)\n",
    "        x = F.relu(self.fc2(x))\n",
    "     #   x = self.bn2(x)\n",
    "     #   x = F.dropout(x, p=0.5)\n",
    "        x = self.fc3(x)\n",
    "        return x\n",
    "\n",
    "model = Net()"
   ]
  },
  {
   "cell_type": "markdown",
   "id": "6ea6d2c7",
   "metadata": {},
   "source": [
    "With torchinfo library we can inspect properties of our model:"
   ]
  },
  {
   "cell_type": "code",
   "execution_count": null,
   "id": "77875ed0",
   "metadata": {},
   "outputs": [
    {
     "data": {
      "text/plain": [
       "=====================================================================================================================================================================\n",
       "Layer (type:depth-idx)                   Input Shape               Output Shape              Param #                   Kernel Shape              Mult-Adds\n",
       "=====================================================================================================================================================================\n",
       "Net                                      [1, 1, 28, 28]            [1, 10]                   384                       --                        --\n",
       "├─Linear: 1-1                            [1, 784]                  [1, 128]                  100,480                   --                        100,480\n",
       "├─Linear: 1-2                            [1, 128]                  [1, 64]                   8,256                     --                        8,256\n",
       "├─Linear: 1-3                            [1, 64]                   [1, 10]                   650                       --                        650\n",
       "=====================================================================================================================================================================\n",
       "Total params: 109,770\n",
       "Trainable params: 109,770\n",
       "Non-trainable params: 0\n",
       "Total mult-adds (M): 0.11\n",
       "=====================================================================================================================================================================\n",
       "Input size (MB): 0.00\n",
       "Forward/backward pass size (MB): 0.00\n",
       "Params size (MB): 0.44\n",
       "Estimated Total Size (MB): 0.44\n",
       "====================================================================================================================================================================="
      ]
     },
     "execution_count": null,
     "metadata": {},
     "output_type": "execute_result"
    }
   ],
   "source": [
    "# python -m pip install torchinfo\n",
    "import torchinfo\n",
    "torchinfo.summary(model, (1, 28, 28), batch_dim = 0, \n",
    "                  col_names = (\"input_size\", \"output_size\", \"num_params\", \"kernel_size\", \"mult_adds\"), \n",
    "                  verbose = 0)"
   ]
  },
  {
   "cell_type": "markdown",
   "id": "a795a94e",
   "metadata": {},
   "source": [
    "Similar results can be obtained with model.state_dict():"
   ]
  },
  {
   "cell_type": "code",
   "execution_count": null,
   "id": "79c49bc3",
   "metadata": {},
   "outputs": [
    {
     "name": "stdout",
     "output_type": "stream",
     "text": [
      "Model's state_dict:\n",
      "fc1.weight \t torch.Size([128, 784])\n",
      "fc1.bias \t torch.Size([128])\n",
      "bn1.weight \t torch.Size([128])\n",
      "bn1.bias \t torch.Size([128])\n",
      "bn1.running_mean \t torch.Size([128])\n",
      "bn1.running_var \t torch.Size([128])\n",
      "bn1.num_batches_tracked \t torch.Size([])\n",
      "fc2.weight \t torch.Size([64, 128])\n",
      "fc2.bias \t torch.Size([64])\n",
      "bn2.weight \t torch.Size([64])\n",
      "bn2.bias \t torch.Size([64])\n",
      "bn2.running_mean \t torch.Size([64])\n",
      "bn2.running_var \t torch.Size([64])\n",
      "bn2.num_batches_tracked \t torch.Size([])\n",
      "fc3.weight \t torch.Size([10, 64])\n",
      "fc3.bias \t torch.Size([10])\n"
     ]
    }
   ],
   "source": [
    "# Print model's state_dict\n",
    "print(\"Model's state_dict:\")\n",
    "for param_tensor in model.state_dict():\n",
    "    print(param_tensor, \"\\t\", model.state_dict()[param_tensor].size())"
   ]
  },
  {
   "cell_type": "markdown",
   "id": "5ce0cf70",
   "metadata": {},
   "source": [
    "Let's define custom loss function: cross-entropy with L2 regularization term:"
   ]
  },
  {
   "cell_type": "code",
   "execution_count": null,
   "id": "082aaec4",
   "metadata": {},
   "outputs": [],
   "source": [
    "# Define the custom loss function\n",
    "class CrossEntropyLossWithL1(nn.Module):\n",
    "    def __init__(self, weight_decay=0.01):\n",
    "        super(CrossEntropyLossWithL1, self).__init__()\n",
    "        self.cross_entropy_loss = nn.CrossEntropyLoss()\n",
    "        self.weight_decay = weight_decay\n",
    "\n",
    "    def forward(self, logits, labels):\n",
    "        # Compute the cross entropy loss\n",
    "        loss = self.cross_entropy_loss(logits, labels)\n",
    "        \n",
    "        # Add the L1 regularization term\n",
    "        L1_loss = 0.0\n",
    "        for param in self.parameters():\n",
    "            L1_loss += torch.sum(param.abs())\n",
    "\n",
    "        # Add the L2 regularization term\n",
    "        L2_loss = 0.0\n",
    "        for param in self.parameters():\n",
    "            L2_loss += torch.sum(param.pow(2))            \n",
    "        \n",
    "       # loss += self.weight_decay * L1_loss  \n",
    "        loss += self.weight_decay * L2_loss\n",
    "        return loss"
   ]
  },
  {
   "cell_type": "markdown",
   "id": "e51ae288",
   "metadata": {},
   "source": [
    "Let's set custom loss function and the optimizer:"
   ]
  },
  {
   "cell_type": "code",
   "execution_count": null,
   "id": "a43c7042",
   "metadata": {},
   "outputs": [],
   "source": [
    "# criterion = nn.CrossEntropyLoss()  # standard cross-entropy loss function \n",
    "criterion = CrossEntropyLossWithL1() # our custom loss function with L1 regularization term\n",
    "\n",
    "optimizer = optim.Adam(model.parameters(), lr=0.001)"
   ]
  },
  {
   "cell_type": "markdown",
   "id": "fa027c7b",
   "metadata": {},
   "source": [
    "::: {.callout-note}\n",
    "### Reseting gradients during training loop with  optimizer.zero_grad()\n",
    "\n",
    "In PyTorch, optimizers are used to update the model parameters based on the computed gradients. The optimizer.zero_grad() function clears the gradients of all the model parameters, so that they are ready to be updated with new gradients in the next iteration.\n",
    "\n",
    "If you don't clear the gradients before starting a new iteration, the gradients from the previous iteration will be accumulated and the model parameters will be updated based on the accumulated gradients, which can lead to incorrect results.\n",
    "\n",
    "For example, consider the case where the gradients from the previous iteration are all positive. If the gradients from the current iteration are also all positive, then the accumulated gradients will be even larger, which can lead to large updates to the model parameters that may be too large and result in overfitting.\n",
    "\n",
    "On the other hand, if the gradients from the previous iteration are all negative and the gradients from the current iteration are all positive, then the accumulated gradients will cancel each other out and the model parameters will not be updated at all, which can result in underfitting.\n",
    "\n",
    "By clearing the gradients before starting a new iteration, you ensure that the model parameters are updated based only on the gradients from the current iteration, which helps to prevent overfitting and underfitting.\n",
    "\n",
    "It is generally a good practice to call optimizer.zero_grad() before starting each iteration of the training loop.\n",
    "\n",
    ":::"
   ]
  },
  {
   "cell_type": "markdown",
   "id": "27d23a50",
   "metadata": {},
   "source": [
    "The training loop:"
   ]
  },
  {
   "cell_type": "code",
   "execution_count": null,
   "id": "09877c7d",
   "metadata": {},
   "outputs": [
    {
     "name": "stdout",
     "output_type": "stream",
     "text": [
      "Epoch: 1  Loss: 0.3990  Accuracy: 0.8820\n",
      "Epoch: 2  Loss: 0.1906  Accuracy: 0.9425\n",
      "Epoch: 3  Loss: 0.1375  Accuracy: 0.9587\n",
      "Epoch: 4  Loss: 0.1093  Accuracy: 0.9667\n",
      "Epoch: 5  Loss: 0.0939  Accuracy: 0.9712\n",
      "Epoch: 6  Loss: 0.0811  Accuracy: 0.9742\n",
      "Epoch: 7  Loss: 0.0698  Accuracy: 0.9779\n",
      "Epoch: 8  Loss: 0.0660  Accuracy: 0.9791\n",
      "Epoch: 9  Loss: 0.0608  Accuracy: 0.9804\n",
      "Epoch: 10  Loss: 0.0527  Accuracy: 0.9822\n",
      "Epoch: 11  Loss: 0.0463  Accuracy: 0.9855\n",
      "Epoch: 12  Loss: 0.0465  Accuracy: 0.9841\n",
      "Epoch: 13  Loss: 0.0428  Accuracy: 0.9856\n",
      "Epoch: 14  Loss: 0.0370  Accuracy: 0.9876\n",
      "Epoch: 15  Loss: 0.0369  Accuracy: 0.9876\n",
      "Epoch: 16  Loss: 0.0351  Accuracy: 0.9879\n",
      "Epoch: 17  Loss: 0.0322  Accuracy: 0.9889\n",
      "Epoch: 18  Loss: 0.0272  Accuracy: 0.9906\n",
      "Epoch: 19  Loss: 0.0300  Accuracy: 0.9895\n",
      "Epoch: 20  Loss: 0.0272  Accuracy: 0.9903\n",
      "Epoch: 21  Loss: 0.0303  Accuracy: 0.9899\n",
      "Epoch: 22  Loss: 0.0244  Accuracy: 0.9917\n",
      "Epoch: 23  Loss: 0.0226  Accuracy: 0.9924\n",
      "Epoch: 24  Loss: 0.0224  Accuracy: 0.9927\n",
      "Epoch: 25  Loss: 0.0243  Accuracy: 0.9918\n",
      "Epoch: 26  Loss: 0.0216  Accuracy: 0.9925\n",
      "Epoch: 27  Loss: 0.0210  Accuracy: 0.9927\n",
      "Epoch: 28  Loss: 0.0213  Accuracy: 0.9929\n",
      "Epoch: 29  Loss: 0.0231  Accuracy: 0.9922\n",
      "Epoch: 30  Loss: 0.0179  Accuracy: 0.9939\n"
     ]
    }
   ],
   "source": [
    "# Set the number of epochs\n",
    "n_epochs = 30\n",
    "\n",
    "# Lists to store the running loss and accuracy\n",
    "loss_list = []\n",
    "acc_list = []\n",
    "\n",
    "# Set the model to training mode\n",
    "model.train()\n",
    "\n",
    "# Loop over the number of epochs\n",
    "for epoch in range(n_epochs):\n",
    "    running_loss = 0.0\n",
    "    running_correct = 0\n",
    "    # Loop over the training data\n",
    "    for i, (inputs, labels) in enumerate(train_loader):\n",
    "\n",
    "        # Zero the parameter gradients\n",
    "        optimizer.zero_grad()\n",
    "\n",
    "        # Forward pass\n",
    "        outputs = model(inputs)\n",
    "        loss = criterion(outputs, labels)\n",
    "\n",
    "        # Backward pass and optimize\n",
    "        loss.backward()\n",
    "        optimizer.step()\n",
    "\n",
    "        # Update the running loss and correct predictions\n",
    "        running_loss += loss.item()\n",
    "        _, predicted = torch.max(outputs.data, 1)\n",
    "        running_correct += (predicted == labels).sum().item()\n",
    "\n",
    "    # Calculate the epoch loss and accuracy\n",
    "    epoch_loss = running_loss / len(train_loader)\n",
    "    epoch_acc = running_correct / len(train_loader.dataset)\n",
    "\n",
    "    # Print the epoch loss and accuracy\n",
    "    print('Epoch: {}  Loss: {:.4f}  Accuracy: {:.4f}'.format(epoch+1, epoch_loss, epoch_acc))\n",
    "\n",
    "    # Append the epoch loss and accuracy to the lists\n",
    "    loss_list.append(epoch_loss)\n",
    "    acc_list.append(epoch_acc)"
   ]
  },
  {
   "cell_type": "markdown",
   "id": "7846c801",
   "metadata": {},
   "source": [
    "To evaluate the model on the test dataset:"
   ]
  },
  {
   "cell_type": "markdown",
   "id": "7f39e63b",
   "metadata": {},
   "source": [
    "::: {.callout-note}\n",
    "### Model evaluation: model.eval() and torch.no_grad()\n",
    "\n",
    "In PyTorch, the model.eval() function sets the model to evaluation mode. In evaluation mode, the model's batch normalization and dropout layers behave differently than they do in training mode.\n",
    "\n",
    "For example, in training mode, the batch normalization layer uses the mean and standard deviation of the layer's input to normalize the activations, whereas in evaluation mode it uses the mean and standard deviation of the running statistics stored during training to normalize the model's parameters. This helps to ensure that the model's behavior is consistent during training and evaluation.\n",
    "\n",
    "In addition, dropout layers behave differently in training mode and evaluation mode. In training mode, dropout layers randomly drop out a certain fraction of the activations to prevent overfitting. In evaluation mode, dropout layers do not drop out any activations and simply pass the activations through unchanged.\n",
    "\n",
    "The torch.no_grad() function is used to turn off gradient calculation. In general, gradient calculation is needed only during training, when you want to update the model parameters based on the computed gradients. During evaluation, you don't need to compute the gradients and turning off gradient calculation can save some computation time.\n",
    "\n",
    "By using model.eval() and torch.no_grad() together, you can ensure that the model is in evaluation mode and that gradient calculation is turned off during evaluation. \n",
    "\n",
    "It is generally a good practice to set the model to evaluation mode before evaluating the model's performance, and to set the model back to training mode before continuing with the training.\n",
    ":::"
   ]
  },
  {
   "cell_type": "code",
   "execution_count": null,
   "id": "1dc4bd7c",
   "metadata": {},
   "outputs": [
    {
     "name": "stdout",
     "output_type": "stream",
     "text": [
      "Test Loss: 0.1029 Test Accuracy: 0.9773\n"
     ]
    }
   ],
   "source": [
    "# Set the model to evaluation mode\n",
    "model.eval()\n",
    "\n",
    "# Initialize the test loss and correct predictions\n",
    "test_loss = 0.0\n",
    "test_correct = 0\n",
    "\n",
    "# Turn off gradient calculation\n",
    "confusion_matrix = np.zeros((10,10))\n",
    "with torch.no_grad():\n",
    "    # Loop over the test data\n",
    "    for inputs, labels in test_loader:\n",
    "\n",
    "        # Forward pass\n",
    "        outputs = model(inputs)\n",
    "        loss = criterion(outputs, labels)\n",
    "        \n",
    "        # Update the test loss and correct predictions\n",
    "        test_loss += loss.item()\n",
    "        _, predicted = torch.max(outputs.data, 1)\n",
    "        test_correct += (predicted == labels).sum().item()\n",
    "        for label_index, label in enumerate(labels):\n",
    "            confusion_matrix[predicted[label_index].item(),label.item()] += 1\n",
    "\n",
    "# Calculate the test loss and accuracy\n",
    "test_loss = test_loss / len(test_loader)\n",
    "test_acc = test_correct / len(test_loader.dataset)\n",
    "\n",
    "# Print the test loss and accuracy\n",
    "print('Test Loss: {:.4f} Test Accuracy: {:.4f}'.format(test_loss, test_acc))\n"
   ]
  },
  {
   "cell_type": "code",
   "execution_count": null,
   "id": "00d86c6c",
   "metadata": {},
   "outputs": [
    {
     "data": {
      "text/plain": [
       "Text(0.5, 1.0, 'Accuracy = 97.73%')"
      ]
     },
     "execution_count": null,
     "metadata": {},
     "output_type": "execute_result"
    },
    {
     "data": {
      "image/png": "[encoded data removed]",
      "text/plain": [
       "<Figure size 640x480 with 1 Axes>"
      ]
     },
     "metadata": {},
     "output_type": "display_data"
    }
   ],
   "source": [
    "correct = np.sum(np.diagonal(confusion_matrix))\n",
    "accuracy = correct/np.sum(confusion_matrix)\n",
    "confusion_matrix = confusion_matrix/np.sum(confusion_matrix)*100\n",
    "plt.imshow(confusion_matrix)\n",
    "plt.xlabel(\"true\")\n",
    "plt.ylabel(\"predicted\")\n",
    "plt.title(\"Accuracy = \" + \"{:2.2f}\".format(accuracy*100) + \"%\")"
   ]
  },
  {
   "cell_type": "markdown",
   "id": "37ff7d22",
   "metadata": {},
   "source": [
    "Finally, we can have a look at trained weights and biasases via"
   ]
  },
  {
   "cell_type": "code",
   "execution_count": null,
   "id": "38dc9e35",
   "metadata": {},
   "outputs": [],
   "source": [
    "# for name, param in model.named_parameters():\n",
    "#    if param.requires_grad:\n",
    "#        print(name, param.data)"
   ]
  },
  {
   "cell_type": "markdown",
   "id": "569bf4d1",
   "metadata": {},
   "source": [
    "Finally, we can save our trained model to file with:"
   ]
  },
  {
   "cell_type": "code",
   "execution_count": null,
   "id": "d978c6f2",
   "metadata": {},
   "outputs": [],
   "source": [
    "PATH = \"model_save\"\n",
    "torch.save(model, PATH);"
   ]
  },
  {
   "cell_type": "markdown",
   "id": "00acb8a1",
   "metadata": {},
   "source": [
    "We can also load model from file:"
   ]
  },
  {
   "cell_type": "code",
   "execution_count": null,
   "id": "d5ef69f5",
   "metadata": {},
   "outputs": [],
   "source": [
    "model = torch.load(PATH);\n",
    "model.eval();"
   ]
  },
  {
   "cell_type": "markdown",
   "id": "d8eb3c4a",
   "metadata": {},
   "source": [
    "::: {.callout-tip}\n",
    "### Exercise\n",
    "1. Calculate confusion matrix for training data.\n",
    "2. Plot accuracy/loss on training data vs epochs (the same for test data).\n",
    "3. Add dropout layers - check accuracy on test data.\n",
    "4. Add batch-norm layers - check accuracy on test data.\n",
    "5. Train on augumented data (rotations/flips).\n",
    ":::"
   ]
  }
 ],
 "metadata": {
  "kernelspec": {
   "display_name": "python3",
   "language": "python",
   "name": "python3"
  }
 },
 "nbformat": 4,
 "nbformat_minor": 5
}
