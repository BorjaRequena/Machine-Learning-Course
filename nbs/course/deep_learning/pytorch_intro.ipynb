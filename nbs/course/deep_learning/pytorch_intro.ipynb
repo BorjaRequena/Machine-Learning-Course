{
 "cells": [
  {
   "cell_type": "raw",
   "metadata": {},
   "source": [
    "---\n",
    "title: \"Neural networks with PyTorch\"\n",
    "author: \"Borja Requena\"\n",
    "toc: true\n",
    "number-sections: true\n",
    "highlight-style: pygments\n",
    "jupyter: python3\n",
    "skip_showdoc: true\n",
    "skip_exec: true\n",
    "---"
   ]
  },
  {
   "cell_type": "markdown",
   "metadata": {},
   "source": [
    "<a href=\"https://githubtocolab.com/BorjaRequena/Neural-Network-Course/blob/master/nbs/course/deep_learning/pytorch_intro.ipynb\" target=\"_parent\"><img src=\"https://colab.research.google.com/assets/colab-badge.svg\" alt=\"Open in Colab\"/></a>"
   ]
  },
  {
   "cell_type": "markdown",
   "metadata": {},
   "source": [
    "# PyTorch basics\n",
    "\n",
    "[PyTorch](https://pytorch.org) is an automatic differentiation framework that, essentially, is your [NumPy](https://numpy.org) for machine learning and anything that involves exact derivatives.\n",
    "PyTorch natively supports hardware accelerators, such as GPUs, that can significantly speed up matrix multiplication operations, as well as distributed computing to handle large workloads.\n",
    "\n",
    "The main element of PyTorch is a tensor, which behaves very similarly to NumPy arrays."
   ]
  },
  {
   "cell_type": "code",
   "execution_count": null,
   "metadata": {},
   "outputs": [
    {
     "data": {
      "text/plain": [
       "torch.Tensor"
      ]
     },
     "execution_count": null,
     "metadata": {},
     "output_type": "execute_result"
    }
   ],
   "source": [
    "import torch\n",
    "torch.manual_seed(7)\n",
    "\n",
    "a_tensor = torch.tensor([1.0, 2.0, 3.0])\n",
    "b_tensor = torch.tensor([4.0, 5.0, 6.0])\n",
    "type(a_tensor)"
   ]
  },
  {
   "cell_type": "markdown",
   "metadata": {},
   "source": [
    "We can perform any kind of operations over tensors, from matrix to element-wise operations."
   ]
  },
  {
   "cell_type": "code",
   "execution_count": null,
   "metadata": {},
   "outputs": [
    {
     "data": {
      "text/plain": [
       "tensor([4., 5., 6.])"
      ]
     },
     "execution_count": null,
     "metadata": {},
     "output_type": "execute_result"
    }
   ],
   "source": [
    "a_tensor + 3"
   ]
  },
  {
   "cell_type": "code",
   "execution_count": null,
   "metadata": {},
   "outputs": [
    {
     "data": {
      "text/plain": [
       "tensor(32.)"
      ]
     },
     "execution_count": null,
     "metadata": {},
     "output_type": "execute_result"
    }
   ],
   "source": [
    "a_tensor @ b_tensor  # dot product"
   ]
  },
  {
   "cell_type": "markdown",
   "metadata": {},
   "source": [
    "Tensors have `requires_grad` a property that indicates whether gradients should be computed with respect to their values.\n",
    "By default, this is set to `False`."
   ]
  },
  {
   "cell_type": "code",
   "execution_count": null,
   "metadata": {},
   "outputs": [
    {
     "data": {
      "text/plain": [
       "False"
      ]
     },
     "execution_count": null,
     "metadata": {},
     "output_type": "execute_result"
    }
   ],
   "source": [
    "a_tensor.requires_grad"
   ]
  },
  {
   "cell_type": "markdown",
   "metadata": {},
   "source": [
    "However, if we set it to `True`, we will be able to compute the gradient of scalar quantities with respect to the tensor.\n",
    "Let's consider a simple example where we add the sine and cosine of both tensors:\n",
    "$$\\sum_i\\sin(a_i) + \\cos(b_i)$$\n",
    "\n",
    "::: {.callout-note}\n",
    "# Derivatives\n",
    "Recall that $\\frac{d}{dx}\\sin(x) = \\cos(x)$ and $\\frac{d}{dx}\\cos(x) = -\\sin(x)$.\n",
    ":::"
   ]
  },
  {
   "cell_type": "code",
   "execution_count": null,
   "metadata": {},
   "outputs": [],
   "source": [
    "a_tensor.requires_grad = True\n",
    "b_tensor.requires_grad = True\n",
    "\n",
    "value = torch.sum(torch.sin(a_tensor) + torch.cos(b_tensor))\n",
    "value.backward()"
   ]
  },
  {
   "cell_type": "markdown",
   "metadata": {},
   "source": [
    "The result of the sum, `value`, is also a tensor.\n",
    "When we call the `backward` method, it computes the gradient over all the tensors that have been involved in its calculation.\n",
    "The resulting gradients are stored in the tensors themselves. "
   ]
  },
  {
   "cell_type": "code",
   "execution_count": null,
   "metadata": {},
   "outputs": [
    {
     "data": {
      "text/plain": [
       "(tensor([ 0.5403, -0.4161, -0.9900]),\n",
       " tensor([ 0.5403, -0.4161, -0.9900], grad_fn=<CosBackward0>))"
      ]
     },
     "execution_count": null,
     "metadata": {},
     "output_type": "execute_result"
    }
   ],
   "source": [
    "a_tensor.grad, torch.cos(a_tensor)"
   ]
  },
  {
   "cell_type": "code",
   "execution_count": null,
   "metadata": {},
   "outputs": [
    {
     "data": {
      "text/plain": [
       "(tensor([0.7568, 0.9589, 0.2794]),\n",
       " tensor([0.7568, 0.9589, 0.2794], grad_fn=<NegBackward0>))"
      ]
     },
     "execution_count": null,
     "metadata": {},
     "output_type": "execute_result"
    }
   ],
   "source": [
    "b_tensor.grad, -torch.sin(b_tensor)"
   ]
  },
  {
   "cell_type": "markdown",
   "metadata": {},
   "source": [
    "::: {.callout-warning}\n",
    "## Zero out gradients\n",
    "\n",
    "Subsequent gradient computations with respect to the same tensor will add the new gradient to the previous one.\n",
    "We must take this into account and reset the gradients manually when needed. \n",
    "\n",
    ":::"
   ]
  },
  {
   "cell_type": "markdown",
   "metadata": {},
   "source": [
    "Computing the gradient of another quantity with respect to the same tensors will modify its gradient.\n",
    "Consider the sum of all the entries of $\\mathbf{a}$.\n",
    "The gradient with respect to itself is 1 for every entry.\n",
    "This value will be added to the previously existing gradient, although $\\mathbf{b}$ will not be affected."
   ]
  },
  {
   "cell_type": "code",
   "execution_count": null,
   "metadata": {},
   "outputs": [
    {
     "data": {
      "text/plain": [
       "(tensor([1.5403, 0.5839, 0.0100]),\n",
       " tensor([1.5403, 0.5839, 0.0100], grad_fn=<AddBackward0>))"
      ]
     },
     "execution_count": null,
     "metadata": {},
     "output_type": "execute_result"
    }
   ],
   "source": [
    "a_sum = torch.sum(a_tensor)\n",
    "a_sum.backward()\n",
    "\n",
    "a_tensor.grad, torch.cos(a_tensor) + 1"
   ]
  },
  {
   "cell_type": "code",
   "execution_count": null,
   "metadata": {},
   "outputs": [
    {
     "data": {
      "text/plain": [
       "tensor([0.7568, 0.9589, 0.2794])"
      ]
     },
     "execution_count": null,
     "metadata": {},
     "output_type": "execute_result"
    }
   ],
   "source": [
    "b_tensor.grad"
   ]
  },
  {
   "cell_type": "markdown",
   "metadata": {},
   "source": [
    "To reset the gradients of a tensor, we can manually set them to `None` or zero."
   ]
  },
  {
   "cell_type": "code",
   "execution_count": null,
   "metadata": {},
   "outputs": [],
   "source": [
    "a_tensor.grad.zero_()\n",
    "b_tensor.grad = None"
   ]
  },
  {
   "cell_type": "markdown",
   "metadata": {},
   "source": [
    "::: {.callout-note}\n",
    "In machine learning applications, we hardly ever zero out gradients at the tensor level.\n",
    "We typically rely on the `zero_grad()` method from either our [optimizer](https://pytorch.org/docs/stable/optim.html#torch.optim.Optimizer) or [module](https://pytorch.org/docs/stable/generated/torch.nn.Module.html) to reset the gradients.\n",
    "See [the docs](https://pytorch.org/tutorials/recipes/recipes/zeroing_out_gradients.html) for further details.\n",
    "::: "
   ]
  },
  {
   "cell_type": "markdown",
   "metadata": {},
   "source": [
    "# A fully-connected neural network from scratch\n",
    "\n",
    "With these basic tools, we are ready to build a neural network!\n",
    "As we saw in the [introductory lesson](https://borjarequena.github.io/Neural-Network-Course/course/introduction.html), in order to have a learning system we need a task, a performance metric, data, and a model.\n",
    "\n",
    "## Task and data\n",
    "\n",
    "Let's start by the task and the data.\n",
    "We will use the MNIST dataset, which is composed of hand-written digit images from 0 to 9.\n",
    "The task will be to classify those images into their respective digits."
   ]
  },
  {
   "cell_type": "code",
   "execution_count": null,
   "metadata": {},
   "outputs": [
    {
     "name": "stdout",
     "output_type": "stream",
     "text": [
      "Dataset MNIST\n",
      "    Number of datapoints: 60000\n",
      "    Root location: data\n",
      "    Split: Train\n",
      "    StandardTransform\n",
      "Transform: ToTensor()\n",
      "Dataset MNIST\n",
      "    Number of datapoints: 10000\n",
      "    Root location: data\n",
      "    Split: Test\n",
      "    StandardTransform\n",
      "Transform: ToTensor()\n"
     ]
    }
   ],
   "source": [
    "from torchvision.datasets import MNIST\n",
    "from torchvision.transforms import ToTensor\n",
    "from torch.utils.data import DataLoader, random_split\n",
    "\n",
    "\n",
    "mnist_train = MNIST(root=\"data\", train=True, download=True, transform=ToTensor())\n",
    "mnist_test = MNIST(root=\"data\", train=False, download=True, transform=ToTensor())\n",
    "\n",
    "print(mnist_train)\n",
    "print(mnist_test)"
   ]
  },
  {
   "cell_type": "markdown",
   "metadata": {},
   "source": [
    "In machine learning, it is very important that we become familiar with the data that we are dealing with.\n",
    "In this case, we may plot some example images."
   ]
  },
  {
   "cell_type": "code",
   "execution_count": null,
   "metadata": {},
   "outputs": [
    {
     "data": {
      "image/png": "[encoded data removed]",
      "text/plain": [
       "<Figure size 1200x300 with 5 Axes>"
      ]
     },
     "metadata": {},
     "output_type": "display_data"
    }
   ],
   "source": [
    "#| code-fold: true\n",
    "import matplotlib.pyplot as plt\n",
    "\n",
    "def plot_image(ax, image: torch.Tensor, label: int | None = None):\n",
    "    \"Plot a single image.\"\n",
    "    ax.imshow(image.squeeze(), cmap=\"gray\")\n",
    "    if label is not None:\n",
    "        ax.set_title(f\"Pred: {label}\")\n",
    "\n",
    "def plot_examples(dataset):\n",
    "    \"Plot 5 examples from the MNIST dataset.\"\n",
    "    _, axes = plt.subplots(1, 5, figsize=(12, 3))\n",
    "    for i, ax in enumerate(axes):\n",
    "        image, label = dataset[i]\n",
    "        plot_image(ax, image)\n",
    "    plt.show()\n",
    "\n",
    "plot_examples(mnist_train)"
   ]
  },
  {
   "cell_type": "markdown",
   "metadata": {},
   "source": [
    "The images are $28 \\times 28$ pixels in grayscale, and the labels are a single scalar."
   ]
  },
  {
   "cell_type": "code",
   "execution_count": null,
   "metadata": {},
   "outputs": [
    {
     "data": {
      "text/plain": [
       "(torch.Size([1, 28, 28]), 5)"
      ]
     },
     "execution_count": null,
     "metadata": {},
     "output_type": "execute_result"
    }
   ],
   "source": [
    "image, label = mnist_train[0]\n",
    "image.shape, label"
   ]
  },
  {
   "cell_type": "markdown",
   "metadata": {},
   "source": [
    "Now let's split the training set into training and validation.\n",
    "This will allow us to evaluate the model's generalization capabilities during training and tune its hyper-parameters."
   ]
  },
  {
   "cell_type": "code",
   "execution_count": null,
   "metadata": {},
   "outputs": [],
   "source": [
    "train_data, validation_data = random_split(mnist_train, [55000, 5000])"
   ]
  },
  {
   "cell_type": "markdown",
   "metadata": {},
   "source": [
    "Finally, we will create the data loaders for the training, validation, and testing data sets.\n",
    "These objects will take care of spliting the data into batches, given that 60000 images may be too much to process at once."
   ]
  },
  {
   "cell_type": "code",
   "execution_count": null,
   "metadata": {},
   "outputs": [],
   "source": [
    "batch_size = 128\n",
    "train_loader = DataLoader(train_data, batch_size, shuffle=True)\n",
    "val_loader = DataLoader(validation_data, batch_size, shuffle=False)\n",
    "test_loader = DataLoader(mnist_test, batch_size, shuffle=False)"
   ]
  },
  {
   "cell_type": "markdown",
   "metadata": {},
   "source": [
    "## Performance measure\n",
    "\n",
    "In order to train any model, we need to be able to evalute its performance on the given task.\n",
    "This performance measure must be a smooth function that is typically referred to as **loss function**.\n",
    "The learning process will aim to minimize the loss function, as introduced in the [learning as an optimization task](https://borjarequena.github.io/Neural-Network-Course/course/introduction.html#learning-as-an-optimization-task) section from the introductory chapter.\n",
    "\n",
    "In this case, we have a classification problem with ten classes (digits from 0 to 9).\n",
    "Therefore, we will use the cross-entropy loss function $$\\mathcal{L}_{\\text{CE}} = -\\frac{1}{n}\\sum_i^n \\mathbf{y}_i^T\\log(f(\\mathbf{x}_i))\\,,$$ where $\\mathbf{y}_i$ is the one-hot-encoding vector of the true label, and $f(\\mathbf{x}_i)$ provides the predicted probability for sample $\\mathbf{x}_i$ to belong to each of the classes."
   ]
  },
  {
   "cell_type": "code",
   "execution_count": null,
   "metadata": {},
   "outputs": [],
   "source": [
    "def cross_entropy_loss(predictions, targets):\n",
    "    \"\"\"Compute the cross-entropy loss between predictions and targets for a given batch.\"\"\"\n",
    "    target_preds = predictions[torch.arange(len(predictions)), targets]\n",
    "    return -torch.mean(torch.log(target_preds))"
   ]
  },
  {
   "cell_type": "markdown",
   "metadata": {},
   "source": [
    "Besides the loss function, we can compute other performance indicators that may not need to be differentiable, like the accuracy or the error rate. "
   ]
  },
  {
   "cell_type": "code",
   "execution_count": null,
   "metadata": {},
   "outputs": [],
   "source": [
    "def accuracy(predictions, targets):\n",
    "    \"\"\"Compute the accuracy of predictions given the true targets.\"\"\"\n",
    "    return (predictions.argmax(dim=1) == targets).float().mean()"
   ]
  },
  {
   "cell_type": "markdown",
   "metadata": {},
   "source": [
    "## Model\n",
    "\n",
    "The last ingredient for our learning task is a model that will encode the program to solve the task.\n",
    "In this case, we will start with a simple **fully-connected neural network**.\n",
    "In these networks, we distinguish between three types of layers:\n",
    "\n",
    "- The *input layer* contains the data values. In this case, it will be the pixel values.\n",
    "- The *output layer* contains the desired output. In this case, the probability for each class.\n",
    "- The *hidden layers* are all the layers between the input and output layers.\n",
    "\n",
    "Individual neurons perform simple calculations based on the signal received from by the neurons from the preceding layer.\n",
    "Typically, they perform a linear transformation followed by a non-linear *activation function* $\\xi$ of the form.\n",
    "\\begin{split}\n",
    "    z &= \\mathbf{\\omega}^T \\mathbf{x} + b = \\sum_i \\omega_i x_i + b\\\\\n",
    "    x &= \\xi(z)\\,.\n",
    "\\end{split}\n",
    "Here, $\\mathbf{x}$ denotes the activations of the neurons in the preceding layer, and the connection strength between each of those neurons is encoded in the *weight* vector $\\mathbf{\\omega}$.\n",
    "The neuron incorporates a bias $b$, and the resulting value of the linear transformation $z$ is known as the *logit*.\n",
    "Finally, the resulting activation of the neuron $x$ is determined by applying the non-linear activation function $\\xi$.\n",
    "\n",
    "We will start by initializing the parameters for our linear operations."
   ]
  },
  {
   "cell_type": "code",
   "execution_count": null,
   "metadata": {},
   "outputs": [],
   "source": [
    "input_size = 28 * 28\n",
    "hidden_size = 500\n",
    "n_classes = 10\n",
    "\n",
    "# Input to hidden\n",
    "W1 = torch.randn(input_size, hidden_size) / torch.sqrt(torch.tensor(input_size))\n",
    "W1.requires_grad_()\n",
    "b = torch.zeros(hidden_size, requires_grad=True)\n",
    "\n",
    "# Hidden to output\n",
    "W2 = torch.randn(hidden_size, n_classes) / torch.sqrt(torch.tensor(hidden_size))\n",
    "W2.requires_grad_();"
   ]
  },
  {
   "cell_type": "markdown",
   "metadata": {},
   "source": [
    "The activation functions can take any form, so long as it is non-linear, and they can be used to obtain the desired output.\n",
    "In this case, we will use the rectified linear unit (ReLU) activation function in the hidden layer $$\\text{ReLU}(z) = \\max(0, z)\\,,$$ and a softmax activation function in the output layer to normalize the logits as a probability distribution $$\\text{softmax}(z_i) = \\frac{e^{z_i}}{\\sum_k e^{z_k}}\\,.$$"
   ]
  },
  {
   "cell_type": "code",
   "execution_count": null,
   "metadata": {},
   "outputs": [],
   "source": [
    "def relu(x):\n",
    "    \"Rectified linear unit activation function.\"\n",
    "    return torch.maximum(x, torch.tensor(0.0))\n",
    "\n",
    "def softmax(x):\n",
    "    \"Softmax activation function.\"\n",
    "    return torch.exp(x) / torch.exp(x).sum(axis=-1, keepdim=True)"
   ]
  },
  {
   "cell_type": "markdown",
   "metadata": {},
   "source": [
    "Now we can define our model."
   ]
  },
  {
   "cell_type": "code",
   "execution_count": null,
   "metadata": {},
   "outputs": [],
   "source": [
    "def model(x):\n",
    "    \"Neural network model.\"\n",
    "    x = x.reshape(-1, 28 * 28)  # Flatten the image\n",
    "    z = x @ W1 + b  # First linear transformation\n",
    "    x = relu(z)  # Hidden layer activation\n",
    "    z = x @ W2  # Second linear transformation\n",
    "    return softmax(z)  # Output layer activation"
   ]
  },
  {
   "cell_type": "markdown",
   "metadata": {},
   "source": [
    "## Training\n",
    "\n",
    "We have all the necessary ingredients to train a machine learning model for digit recognition.\n",
    "Let's put everything together in a training loop.\n",
    "\n",
    "The typical learning procedure is:\n",
    "\n",
    "1. For every training batch\n",
    "    - Evaluate the model\n",
    "    - Compute the loss\n",
    "    - Compute the gradients of the parameters\n",
    "    - Update the parameters\n",
    "\n",
    "2. For every validation batch\n",
    "    - Evaluate the model\n",
    "    - Compute the loss\n",
    "\n",
    "3. Repeat 1 and 2 for every training epoch"
   ]
  },
  {
   "cell_type": "code",
   "execution_count": null,
   "metadata": {},
   "outputs": [
    {
     "name": "stdout",
     "output_type": "stream",
     "text": [
      "Training Loss: 0.4941, Validation Loss: 0.3285, Accuracy: 0.9156\n",
      "Training Loss: 0.2658, Validation Loss: 0.2582, Accuracy: 0.9346\n",
      "Training Loss: 0.2140, Validation Loss: 0.2177, Accuracy: 0.9460\n",
      "Training Loss: 0.1793, Validation Loss: 0.1871, Accuracy: 0.9528\n",
      "Training Loss: 0.1548, Validation Loss: 0.1684, Accuracy: 0.9564\n",
      "Training Loss: 0.1362, Validation Loss: 0.1526, Accuracy: 0.9622\n",
      "Training Loss: 0.1211, Validation Loss: 0.1360, Accuracy: 0.9658\n",
      "Training Loss: 0.1090, Validation Loss: 0.1302, Accuracy: 0.9664\n",
      "Training Loss: 0.0988, Validation Loss: 0.1156, Accuracy: 0.9684\n",
      "Training Loss: 0.0900, Validation Loss: 0.1139, Accuracy: 0.9700\n",
      "Training Loss: 0.0831, Validation Loss: 0.1086, Accuracy: 0.9718\n",
      "Training Loss: 0.0767, Validation Loss: 0.1035, Accuracy: 0.9722\n",
      "Training Loss: 0.0712, Validation Loss: 0.1023, Accuracy: 0.9732\n",
      "Training Loss: 0.0662, Validation Loss: 0.0955, Accuracy: 0.9742\n",
      "Training Loss: 0.0618, Validation Loss: 0.0953, Accuracy: 0.9730\n",
      "Training Loss: 0.0579, Validation Loss: 0.0902, Accuracy: 0.9760\n",
      "Training Loss: 0.0542, Validation Loss: 0.0865, Accuracy: 0.9768\n",
      "Training Loss: 0.0511, Validation Loss: 0.0864, Accuracy: 0.9762\n",
      "Training Loss: 0.0480, Validation Loss: 0.0826, Accuracy: 0.9772\n",
      "Training Loss: 0.0452, Validation Loss: 0.0815, Accuracy: 0.9768\n",
      "Training Loss: 0.0428, Validation Loss: 0.0790, Accuracy: 0.9788\n",
      "Training Loss: 0.0407, Validation Loss: 0.0760, Accuracy: 0.9764\n",
      "Training Loss: 0.0385, Validation Loss: 0.0779, Accuracy: 0.9788\n",
      "Training Loss: 0.0364, Validation Loss: 0.0745, Accuracy: 0.9790\n",
      "Training Loss: 0.0345, Validation Loss: 0.0731, Accuracy: 0.9788\n",
      "Training Loss: 0.0327, Validation Loss: 0.0719, Accuracy: 0.9790\n",
      "Training Loss: 0.0311, Validation Loss: 0.0723, Accuracy: 0.9790\n",
      "Training Loss: 0.0297, Validation Loss: 0.0707, Accuracy: 0.9798\n",
      "Training Loss: 0.0283, Validation Loss: 0.0713, Accuracy: 0.9794\n",
      "Training Loss: 0.0269, Validation Loss: 0.0709, Accuracy: 0.9794\n",
      "Training Loss: 0.0257, Validation Loss: 0.0692, Accuracy: 0.9806\n",
      "Training Loss: 0.0244, Validation Loss: 0.0713, Accuracy: 0.9792\n",
      "Training Loss: 0.0235, Validation Loss: 0.0706, Accuracy: 0.9790\n",
      "Training Loss: 0.0222, Validation Loss: 0.0684, Accuracy: 0.9794\n",
      "Training Loss: 0.0212, Validation Loss: 0.0676, Accuracy: 0.9802\n",
      "Training Loss: 0.0204, Validation Loss: 0.0680, Accuracy: 0.9798\n",
      "Training Loss: 0.0195, Validation Loss: 0.0678, Accuracy: 0.9800\n",
      "Training Loss: 0.0186, Validation Loss: 0.0677, Accuracy: 0.9798\n",
      "Training Loss: 0.0180, Validation Loss: 0.0660, Accuracy: 0.9804\n",
      "Training Loss: 0.0171, Validation Loss: 0.0662, Accuracy: 0.9796\n"
     ]
    }
   ],
   "source": [
    "learning_rate = 0.1\n",
    "n_epochs = 40\n",
    "\n",
    "training_loss = []\n",
    "validation_loss = []\n",
    "\n",
    "for _ in range(n_epochs):\n",
    "    epoch_loss = 0\n",
    "    for images, labels in train_loader:\n",
    "        preds = model(images)\n",
    "        loss = cross_entropy_loss(preds, labels)\n",
    "        loss.backward()\n",
    "\n",
    "        # Gradient descent step\n",
    "        with torch.no_grad():\n",
    "            # Update parameters\n",
    "            W1 -= W1.grad * learning_rate\n",
    "            b -= b.grad * learning_rate\n",
    "            W2 -= W2.grad * learning_rate\n",
    "            # Reset gradients\n",
    "            W1.grad.zero_()\n",
    "            b.grad.zero_()\n",
    "            W2.grad.zero_()\n",
    "\n",
    "        epoch_loss += loss.item()\n",
    "\n",
    "    training_loss.append(epoch_loss / len(train_loader))\n",
    "\n",
    "    with torch.no_grad():\n",
    "        epoch_loss = 0\n",
    "        val_preds, val_targets = [], []\n",
    "        for images, labels in val_loader:\n",
    "            preds = model(images)\n",
    "            loss = cross_entropy_loss(preds, labels)\n",
    "            \n",
    "            epoch_loss += loss.item()\n",
    "            val_preds.append(preds)\n",
    "            val_targets.append(labels)\n",
    "\n",
    "        val_acc = accuracy(torch.cat(val_preds), torch.cat(val_targets))\n",
    "        validation_loss.append(epoch_loss / len(val_loader))\n",
    "\n",
    "    print(f\"Training Loss: {training_loss[-1]:.4f}, Validation Loss: {validation_loss[-1]:.4f}, Accuracy: {val_acc:.4f}\")"
   ]
  },
  {
   "cell_type": "code",
   "execution_count": null,
   "metadata": {},
   "outputs": [
    {
     "data": {
      "text/plain": [
       "<matplotlib.legend.Legend>"
      ]
     },
     "execution_count": null,
     "metadata": {},
     "output_type": "execute_result"
    },
    {
     "data": {
      "image/png": "[encoded data removed]",
      "text/plain": [
       "<Figure size 640x480 with 1 Axes>"
      ]
     },
     "metadata": {},
     "output_type": "display_data"
    }
   ],
   "source": [
    "plt.plot(training_loss, label=\"Training Loss\")\n",
    "plt.plot(validation_loss, label=\"Validation Loss\")\n",
    "plt.xlabel(\"Training epoch\")\n",
    "plt.ylabel(\"Cross-entropy loss\")\n",
    "plt.grid()\n",
    "plt.legend()"
   ]
  },
  {
   "cell_type": "markdown",
   "metadata": {},
   "source": [
    "# Deep learning à la torch\n",
    "\n",
    "PyTorch offers a compact suite to define and train neural networks.\n",
    "The main elements are [`Module`s](https://pytorch.org/docs/stable/generated/torch.nn.Module.html#torch.nn.Module), [functionals](https://pytorch.org/docs/stable/nn.functional.html), and [optimizers](https://pytorch.org/docs/stable/optim.html).\n",
    "\n",
    "Let's implement the same neural network as before using the tools provided by torch, starting by the architecture.\n",
    "Neural networks in torch must inherit from the `Module` class and implement a `forward` method.\n",
    "The `Module` class takes care of implementing a reciprocal `backward` method for us."
   ]
  },
  {
   "cell_type": "code",
   "execution_count": null,
   "metadata": {},
   "outputs": [],
   "source": [
    "import torch.nn as nn\n",
    "import torch.nn.functional as F\n",
    "\n",
    "class FullyConnected(nn.Module):\n",
    "    def __init__(self, input_size, hidden_size, output_size):\n",
    "        super().__init__()\n",
    "        self.linear_1 = nn.Linear(input_size, hidden_size)\n",
    "        self.linear_2 = nn.Linear(hidden_size, output_size, bias=False)\n",
    "        \n",
    "    def forward(self, x):\n",
    "        x = x.reshape(-1, 28 * 28)\n",
    "        z = self.linear_1(x)\n",
    "        x = F.relu(z)\n",
    "        z = self.linear_2(x)\n",
    "        return z  # Notice we do not implement the softamx activation\n",
    "    \n",
    "model = FullyConnected(28 * 28, 500, 10)"
   ]
  },
  {
   "cell_type": "markdown",
   "metadata": {},
   "source": [
    "Notice that we have not implemented the last activation function in the output layer.\n",
    "This is because PyTorch's cross entropy loss expects the logits, as it implements an optimized calculation for the loss.\n",
    "See [the docs](https://pytorch.org/docs/stable/generated/torch.nn.CrossEntropyLoss.html) for further details.\n",
    "\n",
    "To train the model, we will use the stochastic gradient descent optimizer, in order to faithfully reproduce the results."
   ]
  },
  {
   "cell_type": "code",
   "execution_count": null,
   "metadata": {},
   "outputs": [],
   "source": [
    "optimizer = torch.optim.SGD(model.parameters(), lr=learning_rate)"
   ]
  },
  {
   "cell_type": "markdown",
   "metadata": {},
   "source": [
    "Finally, we can write the training loop."
   ]
  },
  {
   "cell_type": "code",
   "execution_count": null,
   "metadata": {},
   "outputs": [
    {
     "name": "stdout",
     "output_type": "stream",
     "text": [
      "Training Loss: 0.5788, Validation Loss: 0.3580, Accuracy: 0.9054\n",
      "Training Loss: 0.2900, Validation Loss: 0.2896, Accuracy: 0.9260\n",
      "Training Loss: 0.2362, Validation Loss: 0.2396, Accuracy: 0.9402\n",
      "Training Loss: 0.1995, Validation Loss: 0.2137, Accuracy: 0.9488\n",
      "Training Loss: 0.1728, Validation Loss: 0.1875, Accuracy: 0.9506\n",
      "Training Loss: 0.1516, Validation Loss: 0.1732, Accuracy: 0.9554\n",
      "Training Loss: 0.1351, Validation Loss: 0.1541, Accuracy: 0.9596\n",
      "Training Loss: 0.1214, Validation Loss: 0.1442, Accuracy: 0.9618\n",
      "Training Loss: 0.1098, Validation Loss: 0.1348, Accuracy: 0.9650\n",
      "Training Loss: 0.1008, Validation Loss: 0.1249, Accuracy: 0.9690\n",
      "Training Loss: 0.0920, Validation Loss: 0.1208, Accuracy: 0.9672\n",
      "Training Loss: 0.0850, Validation Loss: 0.1149, Accuracy: 0.9702\n",
      "Training Loss: 0.0788, Validation Loss: 0.1051, Accuracy: 0.9722\n",
      "Training Loss: 0.0733, Validation Loss: 0.1041, Accuracy: 0.9716\n",
      "Training Loss: 0.0686, Validation Loss: 0.0998, Accuracy: 0.9718\n",
      "Training Loss: 0.0641, Validation Loss: 0.0934, Accuracy: 0.9750\n",
      "Training Loss: 0.0602, Validation Loss: 0.0916, Accuracy: 0.9746\n",
      "Training Loss: 0.0565, Validation Loss: 0.0878, Accuracy: 0.9750\n",
      "Training Loss: 0.0531, Validation Loss: 0.0865, Accuracy: 0.9760\n",
      "Training Loss: 0.0502, Validation Loss: 0.0823, Accuracy: 0.9766\n",
      "Training Loss: 0.0475, Validation Loss: 0.0811, Accuracy: 0.9774\n",
      "Training Loss: 0.0448, Validation Loss: 0.0786, Accuracy: 0.9764\n",
      "Training Loss: 0.0426, Validation Loss: 0.0778, Accuracy: 0.9772\n",
      "Training Loss: 0.0402, Validation Loss: 0.0780, Accuracy: 0.9758\n",
      "Training Loss: 0.0384, Validation Loss: 0.0755, Accuracy: 0.9770\n",
      "Training Loss: 0.0365, Validation Loss: 0.0752, Accuracy: 0.9782\n",
      "Training Loss: 0.0347, Validation Loss: 0.0737, Accuracy: 0.9782\n",
      "Training Loss: 0.0330, Validation Loss: 0.0708, Accuracy: 0.9778\n",
      "Training Loss: 0.0313, Validation Loss: 0.0712, Accuracy: 0.9786\n",
      "Training Loss: 0.0299, Validation Loss: 0.0714, Accuracy: 0.9778\n",
      "Training Loss: 0.0286, Validation Loss: 0.0695, Accuracy: 0.9782\n",
      "Training Loss: 0.0273, Validation Loss: 0.0682, Accuracy: 0.9794\n",
      "Training Loss: 0.0260, Validation Loss: 0.0689, Accuracy: 0.9786\n",
      "Training Loss: 0.0248, Validation Loss: 0.0676, Accuracy: 0.9788\n",
      "Training Loss: 0.0238, Validation Loss: 0.0680, Accuracy: 0.9780\n",
      "Training Loss: 0.0227, Validation Loss: 0.0661, Accuracy: 0.9798\n",
      "Training Loss: 0.0217, Validation Loss: 0.0667, Accuracy: 0.9796\n",
      "Training Loss: 0.0210, Validation Loss: 0.0671, Accuracy: 0.9796\n",
      "Training Loss: 0.0201, Validation Loss: 0.0659, Accuracy: 0.9806\n",
      "Training Loss: 0.0192, Validation Loss: 0.0660, Accuracy: 0.9790\n"
     ]
    }
   ],
   "source": [
    "training_loss = []\n",
    "validation_loss = []\n",
    "\n",
    "for _ in range(n_epochs):\n",
    "    epoch_loss = 0\n",
    "    for images, labels in train_loader:\n",
    "        logits = model(images)\n",
    "        loss = F.cross_entropy(logits, labels)\n",
    "        loss.backward()\n",
    "        optimizer.step()\n",
    "        optimizer.zero_grad()\n",
    "\n",
    "        epoch_loss += loss.item()\n",
    "\n",
    "    training_loss.append(epoch_loss / len(train_loader))\n",
    "\n",
    "    with torch.no_grad():\n",
    "        epoch_loss = 0\n",
    "        val_preds, val_targets = [], []\n",
    "        for images, labels in val_loader:\n",
    "            logits = model(images)\n",
    "            loss = F.cross_entropy(logits, labels)\n",
    "\n",
    "            epoch_loss += loss.item()\n",
    "            val_preds.append(F.softmax(logits, dim=1))\n",
    "            val_targets.append(labels)\n",
    "\n",
    "        val_acc = accuracy(torch.cat(val_preds), torch.cat(val_targets))\n",
    "        validation_loss.append(epoch_loss / len(val_loader))\n",
    "\n",
    "    print(f\"Training Loss: {training_loss[-1]:.4f}, Validation Loss: {validation_loss[-1]:.4f}, Accuracy: {val_acc:.4f}\")"
   ]
  },
  {
   "cell_type": "code",
   "execution_count": null,
   "metadata": {},
   "outputs": [
    {
     "data": {
      "text/plain": [
       "<matplotlib.legend.Legend>"
      ]
     },
     "execution_count": null,
     "metadata": {},
     "output_type": "execute_result"
    },
    {
     "data": {
      "image/png": "[encoded data removed]",
      "text/plain": [
       "<Figure size 640x480 with 1 Axes>"
      ]
     },
     "metadata": {},
     "output_type": "display_data"
    }
   ],
   "source": [
    "plt.plot(training_loss, label=\"Training Loss\")\n",
    "plt.plot(validation_loss, label=\"Validation Loss\")\n",
    "plt.xlabel(\"Training epoch\")\n",
    "plt.ylabel(\"Cross-entropy loss\")\n",
    "plt.grid()\n",
    "plt.legend()"
   ]
  }
 ],
 "metadata": {
  "kernelspec": {
   "display_name": "python3",
   "language": "python",
   "name": "python3"
  }
 },
 "nbformat": 4,
 "nbformat_minor": 2
}
