{
 "cells": [
  {
   "cell_type": "raw",
   "id": "6e6c6ab7",
   "metadata": {},
   "source": [
    "---\n",
    "title: \"Quantum Approximate Optimization Algorithm (QAOA) from scratch\"\n",
    "author: \"Marcin Płodzień\"\n",
    "toc: true\n",
    "number-sections: true\n",
    "highlight-style: pygments\n",
    "jupyter: python3\n",
    "skip_showdoc: true\n",
    "skip_exec: true\n",
    "---"
   ]
  },
  {
   "cell_type": "markdown",
   "id": "ed77b004",
   "metadata": {},
   "source": [
    "<a href=\"https://githubtocolab.com/BorjaRequena/Neural-Network-Course/blob/master/nbs/course/quantum/QAOA.ipynb\" target=\"_parent\"><img src=\"https://colab.research.google.com/assets/colab-badge.svg\" alt=\"Open in Colab\"/></a>"
   ]
  },
  {
   "cell_type": "markdown",
   "id": "ef6fb5e4",
   "metadata": {},
   "source": [
    "The QAOA algorithm is a quantum algorithm used to solve optimization problems by finding an extremum of a given cost function. The QAOA was first introduced by E. Farhi, J. Goldstone, and S. Gutmann in [A Quantum Approximate Optimization Algorithm](https://arxiv.org/abs/1411.4028). The algorithm has been shown to be efficient for solving certain optimization problems, such as the Max-Cut problem, which is NP-hard.\n",
    "\n",
    "In the following, we will implement QAOA for the Max-Cut problem from scratch using Pytorch and its automatic differentiation libraries."
   ]
  },
  {
   "cell_type": "markdown",
   "id": "1c00f3ac",
   "metadata": {},
   "source": [
    "# Max-Cut problem introduction\n",
    "\n",
    "\n",
    "Max-Cut is a classic optimization problem. The goal is to divide a graph into two sets, such that the sum of weights of the edges connecting vertices in different sets is maximized. It is an NP-hard problem, meaning it is challenging to solve for large graphs using classical algorithms in a reasonable amount of time.\n",
    "\n",
    "In the Max-Cut problem, a graph is represented by vertices (nodes) and edges (connections) between the vertices. Each edge has a weight meaning the cost of cutting that edge. The goal is to find a way to divide the nodes into two sets such that the sum of the weights of the edges connecting nodes in different sets is maximized.\n",
    "\n",
    "It has been shown that the QAOA algorithm can be applied to the Max-Cut problem, providing a quantum-inspired solution to the problem. The QAOA algorithm's efficiency for solving the Max-Cut problem is still being explored and is an active area of research."
   ]
  },
  {
   "cell_type": "markdown",
   "id": "f72fbb55",
   "metadata": {},
   "source": [
    "Let us consider a planar graph $G = (V,E)$, having vertices (or nodes) enumerated by index $i \\in V$, and edges being a connected pars of vertices, i.e. $E = \\{ (i,k) | i,k\\in V, i\\ne k\\}$. Each edge has a weigth $w_{ik}>0$. We consider undirected graph, thus $w_{ik} = w_{ki}$. \n",
    "\n",
    "We prepare a $\\textit{cut}$ of a graph $G$, i.e. we divide graph $G$ into two parts $S$, $T$ such that $V = S\\cup T$. To each node belonging to subgraph $S$ we assign value $z_i = +1$, while to each node in subgraph $T$ we assing value of $z_i = -1$. To check if two nodes belong to the same part, we can define a function\n",
    "\\begin{equation}\n",
    " c_{ik} = \\frac{1-z_iz_k}{2},\n",
    "\\end{equation}\n",
    "which takes value $0$ if two nodes $i,k$ belong to the same subset, are $1$ if nodes belong to different subsets.\n",
    "\n",
    "Finally, we can define a $\\textit{value of a cut}$ as\n",
    "\\begin{equation}\n",
    "  P = \\sum_{i,k} c_{ik}w_{ik}.\n",
    "\\end{equation}\n",
    "\n",
    "The Max-Cut is a problem of finding such a $\\textit{cut}$ of a graph, which maximizes $P$. We can write\n",
    "\\begin{equation}\n",
    " P = \\sum_{i<k}w_{ik} - \\sum_{i<k}w_{ik}z_iz_k = W - C(\\vec{z}),\n",
    "\\end{equation} \n",
    "where $W = \\sum_{i<k}w_{ik}$ is a positive constant number, and $C(\\vec{z}) = \\sum_{i<k}w_{ik}z_iz_k$ is a cost function which we want to minimize.\n"
   ]
  },
  {
   "cell_type": "markdown",
   "id": "46531675",
   "metadata": {},
   "source": [
    "## Max-Cut problem expressed as a spin-1/2 problem\n",
    "\n",
    "The Max-Cut problem can be cast to solving a quantum mechanical problem of spin-1/2 system. To the $i$-th node with the value $z_i$ we assign the state of the spin-1/2, i.e.:\n",
    "\n",
    "\\begin{equation}\n",
    " \\begin{split}\n",
    "    z_i = +1 \\to & |0\\rangle \\equiv |\\uparrow\\rangle \\\\ \n",
    "    z_i = -1 \\to & |1\\rangle \\equiv |\\downarrow\\rangle.\n",
    " \\end{split}\n",
    "\\end{equation}\n",
    "As such, minimizing the cost function $C(\\vec{z})$ can be considered as fidning the spin configuration which minimizes the $\\textit{cost Hamiltonian}$, defined as:\n",
    "\n",
    "\\begin{equation}\n",
    " \\hat{H}_C = \\sum_{ik} w_{ik} \\hat{\\sigma}^z_i\\hat{\\sigma}^z_k,\n",
    "\\end{equation}\n",
    "where $\\hat{\\sigma}^z_i$ is a Pauli-Z matrix acting on $i$-th qubit.\n",
    "\n",
    "While we consider a planar graph and enumerate spins with index $i$, the problem is equivalent to considering a one-dimensional chain of spins connected adequately via edges.\n",
    "For simplicity, let's consider a simple two dimensional grid of size $L_x \\times L_y$, where each node of the grid we $(i_x, i_y)$ have one spin-$1/2$, and $i_x = 1,\\dots,L_x$, $i_y = 1,\\dots,L_y$. We assume $w_{ik} = 1$ where two spins are nearest neighbors and $w_{ik}=0$ otherwise.\n",
    "\n",
    "Next, to each spin at node $(i_x,i_y)$ we can assign a label $i \\equiv (i_y - 1)L_x + i_x$, , i.e. $(i_x, i_y) \\to i$. With such a mapping, our original 2-dimensional problem can be cast to a one-dimensional problem with $L = L_x L_y$ spins-$1/2$, where total Hilbert space has size ${\\cal D} = 2^{L}$.\n",
    "\n",
    "The Quantum Approximate Optimization Algorithm is based on a specific form of an ansatz for optimal many-body wave function $|\\psi_*\\rangle$ minimizing the cost Hamiltonian $\\hat{H}_C$. The optimal parameters of an ansatz are obtained in an iterative procedure."
   ]
  },
  {
   "cell_type": "markdown",
   "id": "501af93c",
   "metadata": {},
   "source": [
    "# QAOA ansatz\n",
    "\n",
    "The QAOA ansatz for the many-body wave-function providing optimal spin configuration minimizing the cost Hamiltonian $\\hat{H}_C$ has the following form:\n",
    "\n",
    "\\begin{equation}\n",
    " |\\psi(\\vec{\\beta},\\vec{\\gamma}\\rangle = U_B(\\beta_1)U_C(\\gamma_1)\\dots U_B(\\beta_p)U_C(\\gamma_p)|s\\rangle,\n",
    "\\end{equation}\n",
    "\n",
    "where an initial state $|s\\rangle$ is coherent superposition on spin up/down configuration for each qubit. State $|s\\rangle$ is generated via acting with the Hadamard operator on $i$-th qubit:\n",
    "\\begin{equation}\n",
    "    |s\\rangle = \\sum_{i=1}^{L} H_i|0\\rangle \\equiv  \\sum_{i=1}^{L} H_i|\\uparrow\\rangle.\n",
    "\\end{equation}\n",
    "\n",
    "The variational vectors $\\vec{\\beta} = (\\beta_1,\\dots,\\beta_p)$, and $\\vec{\\gamma} = (\\gamma_1,\\dots,\\gamma_p)$ parametrize two unitaries:\n",
    "\\begin{equation}\n",
    " \\begin{split}\n",
    "   U_B(\\beta_l) & = e^{-i\\beta_l \\hat{H}_B},\\\\\n",
    "   U_C(\\gamma_l) & = e^{-i\\gamma_l \\hat{H}_C},\n",
    " \\end{split}\n",
    "\\end{equation}\n",
    "where $\\hat{H}_C$ is our cost Hamiltonian, and $\\hat{H}_B = \\sum_{i} \\hat{\\sigma}^x_i$ is called a $\\textit{mixer Hamiltonian}$. The number of variational coeficients $p$ is a hyperparameter for the QAOA.\n",
    "\n",
    "In the QOAO  we iteratively update parameters $\\vec{\\beta}$, and $\\vec{\\gamma}$ in order to minimize the cost function, i.e. expectation value of the cost Hamiltonian:\n",
    "\\begin{equation}\n",
    "F(\\vec{\\beta},\\vec{\\gamma}) = \\langle\\psi(\\vec{\\beta},\\vec{\\gamma})|\\hat{H}_C|\\psi(\\vec{\\beta},\\vec{\\gamma})\\rangle.\n",
    "\\end{equation}\n",
    "The optimization procedure can be done with the help of automatic differentiation.\n",
    "\n",
    "After finding the optimal set of parameters $\\vec{\\beta}_*$, $\\vec{\\gamma}_*$ defining the many-body wave function\n",
    "\\begin{equation}\n",
    " |\\psi_*\\rangle\\equiv |\\psi(\\vec{\\beta}_*,\\vec{\\gamma}_*)\\rangle,\n",
    "\\end{equation}\n",
    "the optimal spin configuration for our problem corresponds to index $k$ of the Fock vector from our basis, for which the quantity\n",
    "\\begin{equation}\n",
    " |\\langle v_k|\\psi_*\\rangle|^2\n",
    "\\end{equation}\n",
    "is maximal, where $|v_k\\rangle$ is a Fock vector of the $L$-qubit Hilbert space:\n",
    "\\begin{equation}\n",
    " \\begin{split}\n",
    "   |v_1\\rangle & = |\\uparrow \\uparrow \\dots \\uparrow \\rangle \\\\\n",
    "   |v_2\\rangle & = |\\uparrow \\uparrow \\dots \\downarrow \\rangle \\\\\n",
    "   & \\vdots \\\\\n",
    "   |v_D\\rangle & = |\\downarrow \\downarrow \\dots \\downarrow \\rangle \\\\\n",
    " \\end{split}\n",
    "\\end{equation}\n",
    " In the following we denote: $\\uparrow \\equiv 1$, $\\downarrow \\equiv -1$.\n",
    "\n",
    "Finally, we repeat the optimization procedure $N$ times, and we plot histogram of the optimal spin configuration indexed by $k$. In the limit of $N\\to\\infty$ the most probable spin configuration is the solution to our classical optimization problem."
   ]
  },
  {
   "cell_type": "markdown",
   "id": "7096f5ba",
   "metadata": {},
   "source": [
    "> For small number of nodes $L$ the QAOA is not needed: we can simply diagonalize cost Hamiltonian $\\hat{H}_C$, and find the spin configuration which minimizes cost function. However for $L \\le 25$ this brute-force approach fails due to exponential increase of the corresponding Hilbert space ${\\cal D} = 2^L$"
   ]
  },
  {
   "cell_type": "markdown",
   "id": "c95d835f",
   "metadata": {},
   "source": [
    "## QAOA implementation in Pytorch"
   ]
  },
  {
   "cell_type": "markdown",
   "id": "30d6b69f",
   "metadata": {},
   "source": [
    "### Pauli spin chain operators\n",
    "\n",
    "The starting point is to implement the Pauli spin chain operators. On a spin-$1/2$ chain with $L$ spins, the Pauli spin operators $X_i,Y_i,Z_i$ acting on $i$-th spin are defined as:\n",
    "\\begin{equation}\n",
    " \\begin{split}\n",
    " X_i  &= \\mathbb{1}_1\\otimes\\dots\\mathbb{1}_{i-1}\\otimes\\hat{\\sigma}^x\\otimes\\mathbb{1}_{i+1}\\dots\\mathbb{1}_{L},\\\\\n",
    " Y_i  &= \\mathbb{1}_1\\otimes\\dots\\mathbb{1}_{i-1}\\otimes\\hat{\\sigma}^y\\otimes\\mathbb{1}_{i+1}\\dots\\mathbb{1}_{L},\\\\\n",
    " Z_i  &= \\mathbb{1}_1\\otimes\\dots\\mathbb{1}_{i-1}\\otimes\\hat{\\sigma}^z\\otimes\\mathbb{1}_{i+1}\\dots\\mathbb{1}_{L},\n",
    " \\end{split}\n",
    "\\end{equation}\n",
    "where $\\hat{\\sigma}^{x,y,z}$ are $2\\times2$ Pauli operators.\n",
    "\n",
    "In a similar manner we can define Hadamard matrix $H_i$ acting on $i$-th spin, i.e.\n",
    "\\begin{equation}\n",
    "H_i = \\mathbb{1}_1\\otimes\\dots\\mathbb{1}_{i-1}\\otimes H\\otimes\\mathbb{1}_{i+1}\\dots\\mathbb{1}_{L},\n",
    "\\end{equation}\n",
    "where $H = \\frac{\\hat{\\sigma}^x + \\hat{\\sigma}^z}{\\sqrt{2}}$.\n",
    "\n",
    "Let's import necessary librarires and define Pauli operators, and Hadamard operator, on a spin chain of lenght $L=L_x\\times L_y$. We consider $L_x = 3$, $L_y = 2$:"
   ]
  },
  {
   "cell_type": "code",
   "execution_count": null,
   "id": "5624c823",
   "metadata": {},
   "outputs": [],
   "source": [
    "import matplotlib.pyplot as plt\n",
    "import torch as pt\n",
    "from torch import matrix_exp as expm\n",
    "from torch.linalg import eigh as eigh\n",
    "import numpy as np\n",
    "\n",
    "def get_linear_index(i_x, i_y):\n",
    "    return  (i_y-1)*Lx + i_x\n",
    "\n",
    "def get_Identity(k):  # returns k-tensor product of the identity operator, ie. Id^k\n",
    "    Id = id_local\n",
    "    for i in range(0, k-1):\n",
    "        Id = pt.kron(Id, id_local)\n",
    "    return Id\n",
    "         \n",
    "def get_string_operator(A, L, i):\n",
    "    Op = A\n",
    "    if(i == 1):\n",
    "        Op = pt.kron(A,get_Identity(L-1))\n",
    "        return Op\n",
    "    if(i == L):\n",
    "        Op = pt.kron(get_Identity(L-1),A)\n",
    "        return Op\n",
    "    if(i>0 and i<L):\n",
    "        Op = pt.kron(get_Identity(i-1), pt.kron(Op, get_Identity(L-i)))\n",
    "        return Op\n",
    "    \n",
    "id_local = pt.tensor([[1.,0],[0,1.]])\n",
    "sigma_x = pt.tensor([[0,1.],[1.,0]])\n",
    "sigma_y = 1j*pt.tensor([[0,-1.],[1.,0]])\n",
    "sigma_z = pt.tensor([[1.,0],[0,-1.]])\n",
    "hadamard = 1.0/pt.sqrt(pt.tensor(2))*pt.tensor([[1,1],[1,-1]])+1j*0    \n",
    "\n",
    "\n",
    "Lx = 3\n",
    "Ly = 2\n",
    "L = Lx*Ly\n",
    "D = 2**L\n",
    "Id = get_string_operator(id_local, L, 1)\n",
    "X = {}\n",
    "Y = {}\n",
    "Z = {}\n",
    "Hadamard = {}\n",
    "\n",
    "\n",
    "for qubit_i_y in range(1, Ly+1):    # Loop over indices on a 2-dimensional grid (i_x,i_y)\n",
    "    for qubit_i_x in range(1,Lx+1): #\n",
    "        qubit_i = get_linear_index(qubit_i_x, qubit_i_y)\n",
    "        X[qubit_i] = get_string_operator(sigma_x, L, qubit_i)        # Define operator X_i acting on spin (i_x,i_y)\n",
    "        Y[qubit_i] = get_string_operator(sigma_y, L, qubit_i)        # Define operator Y_i acting on spin (i_x,i_y)\n",
    "        Z[qubit_i] = get_string_operator(sigma_z, L, qubit_i)        # Define operator Z_i acting on spin (i_x,i_y)\n",
    "        Hadamard[qubit_i] = get_string_operator(hadamard, L, qubit_i)# Define operator H_i acting on spin (i_x,i_y)"
   ]
  },
  {
   "cell_type": "markdown",
   "id": "5fa6f464",
   "metadata": {},
   "source": [
    "As we mentioned above, all operators are expressed in the diagonal basis of the $Z = \\sum_{i=1}^{L} Z_i$ operator, i.e.\n",
    "\n",
    "\\begin{equation}\n",
    "\\begin{split}\n",
    "   X & = \\sum_{k,l} <v_k|X|v_l>|v_k\\rangle\\langle v_l| \\\\\n",
    "   Y & = \\sum_{k,l} <v_k|Y|v_l>|v_k\\rangle\\langle v_l| \\\\\n",
    "   Z & = \\sum_{k,l} <v_k|Z|v_l>|v_k\\rangle\\langle v_l| \\delta_{k,l},\n",
    "\\end{split}\n",
    "\\end{equation}\n",
    "and\n",
    "\\begin{equation}\n",
    " \\begin{split}\n",
    "   |v_1\\rangle & = |\\uparrow \\uparrow \\dots \\uparrow \\rangle \\\\\n",
    "   |v_2\\rangle & = |\\uparrow \\uparrow \\dots \\downarrow \\rangle \\\\\n",
    "   & \\vdots \\\\\n",
    "   |v_D\\rangle & = |\\downarrow \\downarrow \\dots \\downarrow \\rangle \\\\\n",
    " \\end{split}\n",
    "\\end{equation}\n",
    "\n",
    "In the following we denote: $\\uparrow \\equiv 1$, $\\downarrow \\equiv -1$.\n",
    "\n",
    "Let's us construct our Hilbert space:"
   ]
  },
  {
   "cell_type": "code",
   "execution_count": null,
   "id": "1174af8d",
   "metadata": {},
   "outputs": [],
   "source": [
    "D = 2**L\n",
    "basis = pt.zeros((D,L)) \n",
    "for v_i in range(0,D):\n",
    "    fock_state = pt.zeros(D) \n",
    "    fock_state[v_i] = 1\n",
    "    for i in range(1,L+1):\n",
    "        basis[v_i,i-1] = pt.vdot(fock_state, Z[i]@fock_state)\n",
    "\n",
    "for v_i in range(0,D):  \n",
    "    string_fock_vector = \"|v_\" + \"{:03d}\".format(v_i) + \"> = |\"\n",
    "    for i in range(1,L+1):\n",
    "        tmp = int(basis[v_i,i-1].item())\n",
    "        if(tmp==1):\n",
    "            string_plus_minus = \" {:1d}\".format(tmp)\n",
    "        if(tmp==-1):\n",
    "            string_plus_minus = \"{:1d}\".format(tmp)\n",
    "            \n",
    "         \n",
    "        string_fock_vector = string_fock_vector + string_plus_minus + \" \"\n",
    "    string_fock_vector = string_fock_vector + \">\"\n",
    "    print(string_fock_vector)\n"
   ]
  },
  {
   "cell_type": "markdown",
   "id": "8e711830",
   "metadata": {},
   "source": [
    "### Cost and mixer Hamiltonians\n",
    "\n",
    "Our cost Hamiltonian for Max-Cut problem has the following form:\n",
    "\n",
    "\\begin{equation}\n",
    " \\hat{H}_C = \\frac{1}{2}\\sum_{\\langle i,j\\rangle} Z_i Z_j,\n",
    "\\end{equation}\n",
    "\n",
    "where $\\langle i,j\\rangle$ means sum over nearest neighbors. Note, that each node $i$ has two coordinates, i.e. $ i \\equiv (i_x, i_y)$:"
   ]
  },
  {
   "cell_type": "code",
   "execution_count": null,
   "id": "6526a153",
   "metadata": {},
   "outputs": [],
   "source": [
    "H_C = pt.zeros((D,D)) + 0*1j\n",
    "for qubit_i_x in range(1,Lx+1):\n",
    "    for qubit_i_y in range(1,Ly+1):\n",
    "        qubit_i = get_linear_index(qubit_i_x,qubit_i_y)\n",
    "        for qubit_j_x in range(1,Lx+1):\n",
    "            for qubit_j_y in range(1,Ly+1):\n",
    "                qubit_j = get_linear_index(qubit_j_x,qubit_j_y)\n",
    "                # Sum over nearest neighbors only\n",
    "                if(np.abs(qubit_i_x - qubit_j_x)==1 and np.abs(qubit_i_y - qubit_j_y)==0):\n",
    "                    H_C = H_C + Z[qubit_i]@Z[qubit_j]\n",
    "                if(np.abs(qubit_i_x - qubit_j_x)==0 and np.abs(qubit_i_y - qubit_j_y)==1):\n",
    "                    H_C = H_C + Z[qubit_i]@Z[qubit_j]\n",
    "H_C = 0.5*H_C                    "
   ]
  },
  {
   "cell_type": "markdown",
   "id": "c9f1eaf9",
   "metadata": {},
   "source": [
    "The mixer Hamiltonian has the following form:\n",
    "\n",
    "\\begin{equation}\n",
    "\\hat{H}_B = \\sum_i X_i\n",
    "\\end{equation}"
   ]
  },
  {
   "cell_type": "code",
   "execution_count": null,
   "id": "55f87351",
   "metadata": {},
   "outputs": [],
   "source": [
    "H_B = pt.zeros((D,D)) + 0*1j\n",
    "for qubit_i_x in range(1,Lx+1):\n",
    "    for qubit_i_y in range(1,Ly+1):\n",
    "        qubit_i = get_linear_index(qubit_i_x,qubit_i_y)\n",
    "        H_B = H_B + X[qubit_i]"
   ]
  },
  {
   "cell_type": "markdown",
   "id": "fcc56be3",
   "metadata": {},
   "source": [
    "Finally, we can define two unitary evolution operators for cost, and mixer Hamiltonians, parametrized by $\\gamma$ and $\\beta$\n",
    "\n",
    "\\begin{equation}\n",
    "\\begin{split}\n",
    " U_B(\\beta) & = e^{-i\\beta \\hat{H}_B} \\\\\n",
    " U_C(\\gamma) & = e^{-i\\gamma \\hat{H}_C}.\n",
    "\\end{split}\n",
    "\\end{equation}"
   ]
  },
  {
   "cell_type": "code",
   "execution_count": null,
   "id": "d753bfc3",
   "metadata": {},
   "outputs": [],
   "source": [
    "def U_B(H_B,beta):\n",
    "    return expm(-1j*beta*H_B)\n",
    "\n",
    "def U_C(H_C,gamma):\n",
    "    return expm(-1j*gamma*H_C) "
   ]
  },
  {
   "cell_type": "markdown",
   "id": "93df42b5",
   "metadata": {},
   "source": [
    "### QAOA ansatz\n",
    "\n",
    "Finally, we can define the QAOA ansatz, parametrized by two set of parameters, $\\vec{\\beta}$, and $\\vec{\\gamma}$, having $p$ elements:\n",
    "\\begin{equation}\n",
    " |\\psi(\\vec{\\beta},\\vec{\\gamma})\\rangle = \\prod_{l = 1}^p U_B(\\beta_l)U_C(\\gamma_l)|s\\rangle,\n",
    "\\end{equation}\n",
    "where state $|s\\rangle$ is coherent superposition of states $|0\\rangle$ adn $|1\\rangle$ of each qubit, i.e.\n",
    "\\begin{equation}\n",
    " |s\\rangle = \\prod_{i = 1}^{L} H_i|0\\rangle,\n",
    "\\end{equation}\n",
    "where $H_i$ is Hadamard matrix acting on $i$-th qubit initialized in $|0\\rangle$ state.\n",
    "\n",
    "Length $p$ of vectors $\\vec{\\beta}$, and $\\vec{\\gamma}$ is one of the hyperparameters in $QAOA$ anstaz:"
   ]
  },
  {
   "cell_type": "code",
   "execution_count": null,
   "id": "6a09d31a",
   "metadata": {},
   "outputs": [],
   "source": [
    "def psi(parameters):\n",
    "    beta_vec  = parameters[0,:]\n",
    "    gamma_vec = parameters[1,:]\n",
    "    psi_tmp = pt.zeros(D) + 0*1j\n",
    "    psi_tmp[0] = 1 # in basis of total Z operator Z = \\sum_i Z_i this elements corresponds  \n",
    "                   # to configurations with all spins pointing up\n",
    "   \n",
    "    # prepare Hadamard operation on each qubit\n",
    "    for qubit_i_x in range(1,Lx+1):\n",
    "        for qubit_i_y in range(1,Ly+1):\n",
    "            qubit_i = get_linear_index(qubit_i_x,qubit_i_y)\n",
    "            psi_tmp = Hadamard[qubit_i]@psi_tmp\n",
    "    \n",
    "    for i in range(0,p):\n",
    "        psi_tmp = U_C(H_C, gamma_vec[i])@psi_tmp\n",
    "        psi_tmp = U_B(H_B, beta_vec[i])@psi_tmp\n",
    "    \n",
    "    return psi_tmp"
   ]
  },
  {
   "cell_type": "markdown",
   "id": "4d321fd9",
   "metadata": {},
   "source": [
    "Finally, we define a cost function as a expectation value of the cost Hamilonian $F(\\vec{\\beta},\\vec{\\gamma}) = \\langle \\psi(\\vec{\\beta},\\vec{\\gamma})|\\hat{H}_C|\\psi(\\vec{\\beta},\\vec{\\gamma})\\rangle$:"
   ]
  },
  {
   "cell_type": "code",
   "execution_count": null,
   "id": "08a9f51a",
   "metadata": {},
   "outputs": [],
   "source": [
    "def F(parameters):\n",
    "    return pt.vdot(psi(parameters), H_C@psi(parameters)).real"
   ]
  },
  {
   "cell_type": "markdown",
   "id": "03e5989f",
   "metadata": {},
   "source": [
    "### Optimization loop\n",
    "In the optimization loop, we choose a number of layers $p$, and initialize the $\\vec{\\beta}$, and $\\vec{\\gamma}$ as a random number. Next, with the help of automatic differentiation, we find a set of parameters that minimizes the expectation value of the cost Hamiltonian $\\hat{H}_C$. When we find the optimal set of parameters, our solution to the problem (i.e. spin configuration) corresponds to the Fock state with the maximal probability of the final wave-function, i.e. $v_{\\rm optimal} = argmax(\\rho)$"
   ]
  },
  {
   "cell_type": "code",
   "execution_count": null,
   "id": "47504e47",
   "metadata": {},
   "outputs": [],
   "source": [
    "p = 2\n",
    "parameters = pt.rand((2,p),requires_grad=True)   # first row corresponds to (beta_1,...,beta_p)\n",
    "                                                 # second row corresponds to (gamma_1,...,gamma_p)\n",
    "optimizer = pt.optim.Adam([parameters],lr = 1e-2)\n",
    "loss_vs_epoch = []\n",
    "for i in range(0,100):\n",
    "    loss = F(parameters)\n",
    "    optimizer.zero_grad()\n",
    "    loss.backward()\n",
    "    optimizer.step()\n",
    "    loss_vs_epoch.append(loss.item())\n",
    "\n",
    "psi_optimal = psi(parameters)\n",
    "rho = np.abs(psi_optimal.detach().numpy())**2\n",
    "i_optimal = np.argmax(rho)\n",
    "print('Optimal spins configuration after single run corresponds to basis vector with index k = ' + str(i_optimal))"
   ]
  },
  {
   "cell_type": "markdown",
   "id": "42c543ee",
   "metadata": {},
   "source": [
    "Finally, we have to repeat an optimization procedure and make histogram of optimal configurations."
   ]
  },
  {
   "cell_type": "code",
   "execution_count": null,
   "id": "efcda2af",
   "metadata": {},
   "outputs": [],
   "source": [
    "N_runs = 10\n",
    "histogram = np.zeros(D)\n",
    "for run in range(0,N_runs):\n",
    "    parameters = pt.rand((2,p),requires_grad=True) \n",
    "    optimizer = pt.optim.Adam([parameters],lr = 1e-2)\n",
    "    loss_vs_epoch = []\n",
    "    for i in range(0,200):\n",
    "        loss = F(parameters)\n",
    "        optimizer.zero_grad()\n",
    "        loss.backward()\n",
    "        optimizer.step()\n",
    "        loss_vs_epoch.append(loss.item())\n",
    "    psi_optimal = psi(parameters)\n",
    "    rho = np.abs(psi_optimal.detach().numpy())**2\n",
    "    histogram[np.argmax(rho)] += 1"
   ]
  },
  {
   "cell_type": "markdown",
   "id": "c9e0a474",
   "metadata": {},
   "source": [
    "The optimal configuration corresponds to:"
   ]
  },
  {
   "cell_type": "code",
   "execution_count": null,
   "id": "afcaa397",
   "metadata": {},
   "outputs": [],
   "source": [
    "k_optimal = np.argmax(histogram)\n",
    "string_fock_vector = \"|v_\" + \"{:03d}\".format(v_i) + \"> = |\"\n",
    "for i in range(1,L+1):\n",
    "    tmp = int(basis[k_optimal,i-1].item())\n",
    "    if(tmp==1):\n",
    "        string_plus_minus = \" {:1d}\".format(tmp)\n",
    "    if(tmp==-1):\n",
    "        string_plus_minus = \"{:1d}\".format(tmp)\n",
    "    string_fock_vector = string_fock_vector + string_plus_minus + \" \"\n",
    "string_fock_vector = string_fock_vector + \">\"\n",
    "print(string_fock_vector)"
   ]
  },
  {
   "cell_type": "markdown",
   "id": "de2164ce",
   "metadata": {},
   "source": [
    "# Summary\n",
    "\n",
    "In the provided example we went step-by-step through the QAOA algorithm to find a solution to a classical Max-Cut problem which is NP-hard."
   ]
  }
 ],
 "metadata": {
  "kernelspec": {
   "display_name": "python3",
   "language": "python",
   "name": "python3"
  }
 },
 "nbformat": 4,
 "nbformat_minor": 5
}
