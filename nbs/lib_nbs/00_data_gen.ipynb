{
 "cells": [
  {
   "cell_type": "markdown",
   "metadata": {},
   "source": [
    "# Data Generation\n",
    "\n",
    "> This module generates different types of data"
   ]
  },
  {
   "cell_type": "code",
   "execution_count": null,
   "metadata": {},
   "outputs": [],
   "source": [
    "#|default_exp data_gen"
   ]
  },
  {
   "cell_type": "code",
   "execution_count": null,
   "metadata": {},
   "outputs": [],
   "source": [
    "#| export\n",
    "import numpy as np"
   ]
  },
  {
   "cell_type": "code",
   "execution_count": null,
   "metadata": {},
   "outputs": [],
   "source": [
    "#| export\n",
    "def line(x:np.ndarray,\n",
    "         a=1.0,#Slope\n",
    "         b=0.5,#Intercept\n",
    "         interval=[-10.,10.],#Interval for x.\n",
    "         noise=[0,1E-5],# Noise [$\\mu$,$\\sigma$] with mean $\\mu$ and standard deviation $\\sigma$\n",
    "         nsamples=100# Number of samples\n",
    "        )-> np.ndarray: # the array $y=ax+b$\n",
    "    '''Create a dataset of nsamples in the interval following the linear regression $y=a x+b$.'''\n",
    "    return a*x+b"
   ]
  },
  {
   "cell_type": "code",
   "execution_count": null,
   "metadata": {},
   "outputs": [],
   "source": [
    "#| export\n",
    "def noisy_line(a=1.0,#Slope\n",
    "               b=0.5,#Intercept\n",
    "               interval=[-10.,10.],#Interval for x.\n",
    "               noise=[0,1E-5],# Noise [$\\mu$,$\\sigma$] with mean $\\mu$ and standard deviation $\\sigma$\n",
    "               nsamples=100# Number of samples\n",
    "              ):\n",
    "    '''\n",
    "    Create a dataset of nsamples in the interval following the linear regression $y=a x+b$ and adds a gaussian noise on y.\n",
    "    \n",
    "    Returns\n",
    "    -------\n",
    "    tuple\n",
    "        - a random x vector in the interval of size nsamples\n",
    "        - the noisy vector following $y= ax+b$\n",
    "    '''\n",
    "    x = np.random.uniform(low=interval[0], high=interval[1], size=nsamples)\n",
    "    mu, sigma = noise\n",
    "    vnoise = np.random.normal(loc=mu, scale=sigma, size=nsamples)\n",
    "    return x, a*x+b+vnoise"
   ]
  },
  {
   "cell_type": "code",
   "execution_count": null,
   "metadata": {},
   "outputs": [],
   "source": [
    "#| hide\n",
    "import nbdev; nbdev.nbdev_export()"
   ]
  },
  {
   "cell_type": "code",
   "execution_count": null,
   "metadata": {},
   "outputs": [],
   "source": [
    "nbdev.nbdev_export??"
   ]
  },
  {
   "cell_type": "code",
   "execution_count": null,
   "metadata": {},
   "outputs": [],
   "source": []
  }
 ],
 "metadata": {
  "kernelspec": {
   "display_name": "Python 3 (ipykernel)",
   "language": "python",
   "name": "python3"
  }
 },
 "nbformat": 4,
 "nbformat_minor": 4
}
