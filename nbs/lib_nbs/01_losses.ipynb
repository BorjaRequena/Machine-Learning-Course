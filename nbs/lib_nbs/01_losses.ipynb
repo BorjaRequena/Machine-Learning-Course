{
 "cells": [
  {
   "cell_type": "markdown",
   "id": "2ea5b82b",
   "metadata": {},
   "source": [
    "# Loss functions and gradients\n",
    "\n",
    "> This module contains the loss functions and the gradients"
   ]
  },
  {
   "cell_type": "code",
   "execution_count": null,
   "id": "99fcb4be",
   "metadata": {},
   "outputs": [],
   "source": [
    "#|default_exp losses"
   ]
  },
  {
   "cell_type": "code",
   "execution_count": null,
   "id": "cf6fdcab",
   "metadata": {},
   "outputs": [],
   "source": [
    "#| export\n",
    "import numpy as np"
   ]
  },
  {
   "cell_type": "markdown",
   "id": "decceb40",
   "metadata": {},
   "source": [
    "## Loss function "
   ]
  },
  {
   "cell_type": "code",
   "execution_count": null,
   "id": "173083fc",
   "metadata": {},
   "outputs": [],
   "source": [
    "#| export\n",
    "def MSE(x:np.ndarray, # x data of N elements\n",
    "        y:np.ndarray, # y data of N elements\n",
    "        fun:callable, # function $y=f(x)$\n",
    "        params=None, # Parameters of the function in the form of a dictionary\n",
    "       )->float:\n",
    "    '''Given the data $x$ and $y$, this function computes the mean square error between $y$ and $y'=ax+b.$'''\n",
    "    yp = fun(x) if params is None else fun(x,**params)\n",
    "    MSE = np.mean((y-yp)**2)\n",
    "    return MSE"
   ]
  },
  {
   "cell_type": "markdown",
   "id": "25ff259a",
   "metadata": {},
   "source": [
    "The mean square error is defined as \n",
    "$$ MSE(y,y')=\\frac{1}{N}\\sum_{i=1}^{N}(y_i-y'_i)^2.$$"
   ]
  },
  {
   "cell_type": "code",
   "execution_count": null,
   "id": "bde3dacc",
   "metadata": {},
   "outputs": [],
   "source": [
    "#| export\n",
    "def grad_MSE_lr(x:np.ndarray, # x data of N elements\n",
    "                y:np.ndarray, # y data of N elements\n",
    "                params: dict, # Parameters of the function\n",
    "            )-> np.ndarray: # gradients\n",
    "    '''Computes the gradient of the mean square error loss function with respect to $a$ and $b$ and returns np.array([$\\partial_a$ MSE,$\\partial_b$ MSE])'''\n",
    "    a, b = params['a'], params['b']\n",
    "    yp = a*x+b\n",
    "    ga, gb = np.mean(2*x*(yp-y)), np.mean(2*(yp-y))\n",
    "    return np.array([ga,gb])"
   ]
  },
  {
   "cell_type": "code",
   "execution_count": null,
   "id": "f55641aa",
   "metadata": {},
   "outputs": [],
   "source": [
    "#| hide\n",
    "import nbdev; nbdev.nbdev_export()"
   ]
  }
 ],
 "metadata": {
  "kernelspec": {
   "display_name": "Python 3 (ipykernel)",
   "language": "python",
   "name": "python3"
  }
 },
 "nbformat": 4,
 "nbformat_minor": 5
}
